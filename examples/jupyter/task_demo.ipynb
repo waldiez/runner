{
 "cells": [
  {
   "cell_type": "markdown",
   "id": "5fc0d3de",
   "metadata": {},
   "source": [
    "# 🌟 Waldiez Runner: Jupyter Notebook Example\n",
    "\n",
    "This notebook demonstrates how to interact with the Waldiez Runner server using the client SDK. It covers:\n",
    "- Authentication (via `clients-api` or `tasks-api`)\n",
    "- Creating and managing tasks\n",
    "- Listening to task output via WebSocket\n",
    "- Sending input to running tasks\n",
    "- Downloading results\n"
   ]
  },
  {
   "cell_type": "markdown",
   "id": "56e2d27d",
   "metadata": {},
   "source": [
    "## 🔐 Authentication"
   ]
  },
  {
   "cell_type": "code",
   "execution_count": 9,
   "id": "e7bd1545",
   "metadata": {},
   "outputs": [],
   "source": [
    "import os\n",
    "import sys\n",
    "from pathlib import Path\n",
    "\n",
    "try:\n",
    "    from waldiez_runner.client import (\n",
    "        TasksClient,\n",
    "        TaskStatus,\n",
    "        ClientsAdmin,\n",
    "        ClientCreateRequest,\n",
    "        ClientCreateResponse,\n",
    "        TaskCreateRequest,\n",
    "        UserInputRequest,\n",
    "    )\n",
    "except ImportError:\n",
    "    # Likely running from examples/jupyter — add project root to path\n",
    "    sys.path.append(str(Path(\".\").resolve().parent.parent))\n",
    "    from waldiez_runner.client import (\n",
    "        TasksClient,\n",
    "        TaskStatus,\n",
    "        ClientsAdmin,\n",
    "        ClientCreateRequest,\n",
    "        ClientCreateResponse,\n",
    "        TaskCreateRequest,\n",
    "        UserInputRequest,\n",
    "    )\n",
    "\n",
    "# Base URL for the API\n",
    "BASE_URL = os.environ.get(\"BASE_URL\", \"http://localhost:8000\")\n",
    "\n",
    "# Auth credentials from env or prompt\n",
    "_CLIENT_ID = os.environ.get(\"CLIENT_ID\") or input(\"CLIENT_ID: \")\n",
    "_CLIENT_SECRET = os.environ.get(\"CLIENT_SECRET\") or input(\"CLIENT_SECRET: \")\n",
    "_AUDIENCE = os.environ.get(\"AUDIENCE\") or input(\"AUDIENCE: \")\n",
    "CLIENT_ID = _CLIENT_ID.strip()\n",
    "CLIENT_SECRET = _CLIENT_SECRET.strip()\n",
    "AUDIENCE = _AUDIENCE.strip()\n",
    "os.environ[\"WALDIEZ_CLIENT_ID\"] = CLIENT_ID\n",
    "os.environ[\"WALDIEZ_CLIENT_SECRET\"] = CLIENT_SECRET\n",
    "os.environ[\"WALDIEZ_AUDIENCE\"] = AUDIENCE"
   ]
  },
  {
   "cell_type": "code",
   "execution_count": 10,
   "id": "612d2bfc",
   "metadata": {},
   "outputs": [
    {
     "name": "stdout",
     "output_type": "stream",
     "text": [
      "Creating a new client with tasks-api audience...\n",
      "Created tasks-api client.\n"
     ]
    }
   ],
   "source": [
    "# Make sure we have a client with the right audience (tasks-api)\n",
    "# if we create a new one, let's delete it at the end\n",
    "CREATED_NEW_CLIENT = False\n",
    "\n",
    "if AUDIENCE == \"clients-api\":\n",
    "    admin = ClientsAdmin(\n",
    "        on_error=lambda e: print(f\"Error: {e}\"),\n",
    "        on_auth_error=lambda e: print(f\"Auth Error: {e}\"),\n",
    "        # on_auth_token=lambda token: print(f\"Auth Token: {token}\"),\n",
    "    )\n",
    "    admin.configure(BASE_URL, CLIENT_ID, CLIENT_SECRET)\n",
    "\n",
    "    print(\"Creating a new client with tasks-api audience...\")\n",
    "    client_create = ClientCreateRequest(\n",
    "        # client_id=CLIENT_ID,  # not these, they are existing (for clients-api)\n",
    "        # client_secret=CLIENT_SECRET,  # let's let the server generate them\n",
    "        audience=\"tasks-api\",\n",
    "        description=\"Client for tasks-api\",  # optional\n",
    "    )\n",
    "    client_info: ClientCreateResponse = admin.create_client(\n",
    "        client_data=client_create\n",
    "    )\n",
    "    TASKS_CLIENT_ID = client_info.client_id\n",
    "    TASKS_CLIENT_SECRET = client_info.client_secret\n",
    "    CREATED_NEW_CLIENT = True\n",
    "    print(\"Created tasks-api client.\")\n",
    "else:\n",
    "    TASKS_CLIENT_ID = CLIENT_ID\n",
    "    TASKS_CLIENT_SECRET = CLIENT_SECRET"
   ]
  },
  {
   "cell_type": "code",
   "execution_count": 11,
   "id": "d8e089b3",
   "metadata": {},
   "outputs": [
    {
     "name": "stdout",
     "output_type": "stream",
     "text": [
      "Authenticated as tasks-api client.\n"
     ]
    }
   ],
   "source": [
    "# Now initialize the TasksClient\n",
    "client = TasksClient()\n",
    "client.configure(\n",
    "    base_url=BASE_URL,\n",
    "    client_id=TASKS_CLIENT_ID,\n",
    "    client_secret=TASKS_CLIENT_SECRET,\n",
    "    on_auth_token=None,  # we could use a custom handler here\n",
    "    on_auth_error=None,  # and here\n",
    "    on_error=None,  # and here\n",
    ")\n",
    "print(\"Authenticated as tasks-api client.\")"
   ]
  },
  {
   "cell_type": "markdown",
   "id": "9562308e",
   "metadata": {},
   "source": [
    "## 🚫 Cancel any existing running tasks if any"
   ]
  },
  {
   "cell_type": "code",
   "execution_count": 12,
   "id": "9ed9175e",
   "metadata": {},
   "outputs": [
    {
     "name": "stdout",
     "output_type": "stream",
     "text": [
      "Current tasks: items=[] total=0 page=1 size=50 pages=0\n"
     ]
    }
   ],
   "source": [
    "current_tasks = client.list_tasks()\n",
    "print(f\"Current tasks: {current_tasks}\")\n",
    "for item in current_tasks.items:\n",
    "    if item.status in (\n",
    "        TaskStatus.RUNNING,\n",
    "        TaskStatus.PENDING,\n",
    "        TaskStatus.WAITING_FOR_INPUT,\n",
    "    ):\n",
    "        # Cancel the task if it's active (running, pending, or waiting for input)\n",
    "        print(f\"Cancelling task {item.id} with status {item.status}\")\n",
    "        client.cancel_task(item.id)"
   ]
  },
  {
   "cell_type": "markdown",
   "id": "953bbde0",
   "metadata": {},
   "source": [
    "## 📥 Submit a New Task"
   ]
  },
  {
   "cell_type": "code",
   "execution_count": null,
   "id": "9e182a69",
   "metadata": {},
   "outputs": [
    {
     "name": "stdout",
     "output_type": "stream",
     "text": [
      "📦 Task created: 019639f3895f430a086fb01da307da1f\n"
     ]
    }
   ],
   "source": [
    "# Upload a .waldiez flow\n",
    "FLOW_PATH = os.path.join(\".\", \"..\", \"dummy_with_input.waldiez\")\n",
    "with open(FLOW_PATH, \"rb\") as f:\n",
    "    file_data = f.read()\n",
    "\n",
    "task_create = TaskCreateRequest(\n",
    "    file_data=file_data,\n",
    "    file_name=FLOW_PATH.rsplit(\"/\", maxsplit=1)[-1],\n",
    "    input_timeout=60,\n",
    ")\n",
    "task = client.create_task(\n",
    "    task_data=task_create,\n",
    ")\n",
    "print(\"📦 Task triggered:\", task.id)"
   ]
  },
  {
   "cell_type": "markdown",
   "id": "5fa7d2ae",
   "metadata": {},
   "source": [
    "## 📡 Listen to Task Output"
   ]
  },
  {
   "cell_type": "code",
   "execution_count": 14,
   "id": "696659de",
   "metadata": {},
   "outputs": [
    {
     "name": "stdout",
     "output_type": "stream",
     "text": [
      "📥 {\"type\":\"status\",\"timestamp\":1744728983959486,\"data\":{\"task_id\":\"019639f3895f430a086fb01da307da1f\",\"status\":\"PENDING\",\"created_at\":\"2025-04-15T14:56:23.903\",\"updated_at\":\"2025-04-15T14:56:23.903\",\"results\":null,\"input_request_id\":null}}\n",
      "📥 {\"type\":\"print\",\"data\":\"Installing requirements: pyautogen[openai]==0.8.6\\n\",\"task_id\":\"019639f3895f430a086fb01da307da1f\",\"timestamp\":\"1744728990055849\",\"id\":\"1744728990056-0\"}\n",
      "📥 {\"type\":\"print\",\"data\":\"Requirement already satisfied: pyautogen==0.8.6 in /home/user/.local/lib/python3.12/site-packages (from pyautogen[openai]==0.8.6) (0.8.6)\\n\",\"task_id\":\"019639f3895f430a086fb01da307da1f\",\"timestamp\":\"1744728990542072\",\"id\":\"1744728990542-0\"}\n",
      "📥 {\"type\":\"print\",\"data\":\"Requirement already satisfied: anyio<5.0.0,>=3.0.0 in /home/user/.local/lib/python3.12/site-packages (from pyautogen==0.8.6->pyautogen[openai]==0.8.6) (4.9.0)\\n\",\"task_id\":\"019639f3895f430a086fb01da307da1f\",\"timestamp\":\"1744728990552853\",\"id\":\"1744728990552-0\"}\n",
      "📥 {\"type\":\"print\",\"data\":\"Requirement already satisfied: asyncer==0.0.8 in /home/user/.local/lib/python3.12/site-packages (from pyautogen==0.8.6->pyautogen[openai]==0.8.6) (0.0.8)\\n\",\"task_id\":\"019639f3895f430a086fb01da307da1f\",\"timestamp\":\"1744728990553265\",\"id\":\"1744728990553-0\"}\n",
      "📥 {\"type\":\"print\",\"data\":\"Requirement already satisfied: diskcache in /home/user/.local/lib/python3.12/site-packages (from pyautogen==0.8.6->pyautogen[openai]==0.8.6) (5.6.3)\\n\",\"task_id\":\"019639f3895f430a086fb01da307da1f\",\"timestamp\":\"1744728990553794\",\"id\":\"1744728990553-1\"}\n",
      "📥 {\"type\":\"print\",\"data\":\"Requirement already satisfied: docker in /home/user/.local/lib/python3.12/site-packages (from pyautogen==0.8.6->pyautogen[openai]==0.8.6) (7.1.0)\\n\",\"task_id\":\"019639f3895f430a086fb01da307da1f\",\"timestamp\":\"1744728990554188\",\"id\":\"1744728990554-0\"}\n",
      "📥 {\"type\":\"print\",\"data\":\"Requirement already satisfied: httpx<1,>=0.28.1 in /home/user/.local/lib/python3.12/site-packages (from pyautogen==0.8.6->pyautogen[openai]==0.8.6) (0.28.1)\\n\",\"task_id\":\"019639f3895f430a086fb01da307da1f\",\"timestamp\":\"1744728990554525\",\"id\":\"1744728990554-1\"}\n",
      "📥 {\"type\":\"print\",\"data\":\"Requirement already satisfied: packaging in /home/user/.local/lib/python3.12/site-packages (from pyautogen==0.8.6->pyautogen[openai]==0.8.6) (24.2)\\n\",\"task_id\":\"019639f3895f430a086fb01da307da1f\",\"timestamp\":\"1744728990554834\",\"id\":\"1744728990554-2\"}\n",
      "📥 {\"type\":\"print\",\"data\":\"Requirement already satisfied: pydantic<3,>=2.6.1 in /home/user/.local/lib/python3.12/site-packages (from pyautogen==0.8.6->pyautogen[openai]==0.8.6) (2.11.3)\\n\",\"task_id\":\"019639f3895f430a086fb01da307da1f\",\"timestamp\":\"1744728990555141\",\"id\":\"1744728990555-0\"}\n",
      "📥 {\"type\":\"print\",\"data\":\"Requirement already satisfied: python-dotenv in /home/user/.local/lib/python3.12/site-packages (from pyautogen==0.8.6->pyautogen[openai]==0.8.6) (1.1.0)\\n\",\"task_id\":\"019639f3895f430a086fb01da307da1f\",\"timestamp\":\"1744728990555484\",\"id\":\"1744728990555-1\"}\n",
      "📥 {\"type\":\"print\",\"data\":\"Requirement already satisfied: termcolor in /home/user/.local/lib/python3.12/site-packages (from pyautogen==0.8.6->pyautogen[openai]==0.8.6) (3.0.1)\\n\",\"task_id\":\"019639f3895f430a086fb01da307da1f\",\"timestamp\":\"1744728990555844\",\"id\":\"1744728990555-2\"}\n",
      "📥 {\"type\":\"print\",\"data\":\"Requirement already satisfied: tiktoken in /home/user/.local/lib/python3.12/site-packages (from pyautogen==0.8.6->pyautogen[openai]==0.8.6) (0.9.0)\\n\",\"task_id\":\"019639f3895f430a086fb01da307da1f\",\"timestamp\":\"1744728990556130\",\"id\":\"1744728990556-0\"}\n",
      "📥 {\"type\":\"print\",\"data\":\"Requirement already satisfied: openai>=1.66.2 in /home/user/.local/lib/python3.12/site-packages (from pyautogen[openai]==0.8.6) (1.74.0)\\n\",\"task_id\":\"019639f3895f430a086fb01da307da1f\",\"timestamp\":\"1744728990556894\",\"id\":\"1744728990556-1\"}\n",
      "📥 {\"type\":\"print\",\"data\":\"Requirement already satisfied: idna>=2.8 in /home/user/.local/lib/python3.12/site-packages (from anyio<5.0.0,>=3.0.0->pyautogen==0.8.6->pyautogen[openai]==0.8.6) (3.10)\\n\",\"task_id\":\"019639f3895f430a086fb01da307da1f\",\"timestamp\":\"1744728990558646\",\"id\":\"1744728990558-0\"}\n",
      "📥 {\"type\":\"print\",\"data\":\"Requirement already satisfied: sniffio>=1.1 in /home/user/.local/lib/python3.12/site-packages (from anyio<5.0.0,>=3.0.0->pyautogen==0.8.6->pyautogen[openai]==0.8.6) (1.3.1)\\n\",\"task_id\":\"019639f3895f430a086fb01da307da1f\",\"timestamp\":\"1744728990558954\",\"id\":\"1744728990559-0\"}\n",
      "📥 {\"type\":\"print\",\"data\":\"Requirement already satisfied: typing_extensions>=4.5 in /home/user/.local/lib/python3.12/site-packages (from anyio<5.0.0,>=3.0.0->pyautogen==0.8.6->pyautogen[openai]==0.8.6) (4.13.2)\\n\",\"task_id\":\"019639f3895f430a086fb01da307da1f\",\"timestamp\":\"1744728990559283\",\"id\":\"1744728990559-1\"}\n",
      "📥 {\"type\":\"print\",\"data\":\"Requirement already satisfied: certifi in /home/user/.local/lib/python3.12/site-packages (from httpx<1,>=0.28.1->pyautogen==0.8.6->pyautogen[openai]==0.8.6) (2025.1.31)\\n\",\"task_id\":\"019639f3895f430a086fb01da307da1f\",\"timestamp\":\"1744728990560086\",\"id\":\"1744728990560-0\"}\n",
      "📥 {\"type\":\"print\",\"data\":\"Requirement already satisfied: httpcore==1.* in /home/user/.local/lib/python3.12/site-packages (from httpx<1,>=0.28.1->pyautogen==0.8.6->pyautogen[openai]==0.8.6) (1.0.8)\\n\",\"task_id\":\"019639f3895f430a086fb01da307da1f\",\"timestamp\":\"1744728990560330\",\"id\":\"1744728990560-1\"}\n",
      "📥 {\"type\":\"print\",\"data\":\"Requirement already satisfied: h11<0.15,>=0.13 in /home/user/.local/lib/python3.12/site-packages (from httpcore==1.*->httpx<1,>=0.28.1->pyautogen==0.8.6->pyautogen[openai]==0.8.6) (0.14.0)\\n\",\"task_id\":\"019639f3895f430a086fb01da307da1f\",\"timestamp\":\"1744728990561161\",\"id\":\"1744728990561-0\"}\n",
      "📥 {\"type\":\"print\",\"data\":\"Requirement already satisfied: distro<2,>=1.7.0 in /home/user/.local/lib/python3.12/site-packages (from openai>=1.66.2->pyautogen[openai]==0.8.6) (1.9.0)\\n\",\"task_id\":\"019639f3895f430a086fb01da307da1f\",\"timestamp\":\"1744728990562467\",\"id\":\"1744728990562-0\"}\n",
      "📥 {\"type\":\"print\",\"data\":\"Requirement already satisfied: jiter<1,>=0.4.0 in /home/user/.local/lib/python3.12/site-packages (from openai>=1.66.2->pyautogen[openai]==0.8.6) (0.9.0)\\n\",\"task_id\":\"019639f3895f430a086fb01da307da1f\",\"timestamp\":\"1744728990562730\",\"id\":\"1744728990562-1\"}\n",
      "📥 {\"type\":\"print\",\"data\":\"Requirement already satisfied: tqdm>4 in /home/user/.local/lib/python3.12/site-packages (from openai>=1.66.2->pyautogen[openai]==0.8.6) (4.67.1)\\n\",\"task_id\":\"019639f3895f430a086fb01da307da1f\",\"timestamp\":\"1744728990563023\",\"id\":\"1744728990563-0\"}\n",
      "📥 {\"type\":\"print\",\"data\":\"Requirement already satisfied: annotated-types>=0.6.0 in /home/user/.local/lib/python3.12/site-packages (from pydantic<3,>=2.6.1->pyautogen==0.8.6->pyautogen[openai]==0.8.6) (0.7.0)\\n\",\"task_id\":\"019639f3895f430a086fb01da307da1f\",\"timestamp\":\"1744728990564103\",\"id\":\"1744728990564-0\"}\n",
      "📥 {\"type\":\"print\",\"data\":\"Requirement already satisfied: pydantic-core==2.33.1 in /home/user/.local/lib/python3.12/site-packages (from pydantic<3,>=2.6.1->pyautogen==0.8.6->pyautogen[openai]==0.8.6) (2.33.1)\\n\",\"task_id\":\"019639f3895f430a086fb01da307da1f\",\"timestamp\":\"1744728990564393\",\"id\":\"1744728990564-1\"}\n",
      "📥 {\"type\":\"print\",\"data\":\"Requirement already satisfied: typing-inspection>=0.4.0 in /home/user/.local/lib/python3.12/site-packages (from pydantic<3,>=2.6.1->pyautogen==0.8.6->pyautogen[openai]==0.8.6) (0.4.0)\\n\",\"task_id\":\"019639f3895f430a086fb01da307da1f\",\"timestamp\":\"1744728990564716\",\"id\":\"1744728990564-2\"}\n",
      "📥 {\"type\":\"print\",\"data\":\"Requirement already satisfied: requests>=2.26.0 in /home/user/.local/lib/python3.12/site-packages (from docker->pyautogen==0.8.6->pyautogen[openai]==0.8.6) (2.32.3)\\n\",\"task_id\":\"019639f3895f430a086fb01da307da1f\",\"timestamp\":\"1744728990566859\",\"id\":\"1744728990566-0\"}\n",
      "📥 {\"type\":\"print\",\"data\":\"Requirement already satisfied: urllib3>=1.26.0 in /home/user/.local/lib/python3.12/site-packages (from docker->pyautogen==0.8.6->pyautogen[openai]==0.8.6) (2.4.0)\\n\",\"task_id\":\"019639f3895f430a086fb01da307da1f\",\"timestamp\":\"1744728990567114\",\"id\":\"1744728990567-0\"}\n",
      "📥 {\"type\":\"print\",\"data\":\"Requirement already satisfied: regex>=2022.1.18 in /home/user/.local/lib/python3.12/site-packages (from tiktoken->pyautogen==0.8.6->pyautogen[openai]==0.8.6) (2024.11.6)\\n\",\"task_id\":\"019639f3895f430a086fb01da307da1f\",\"timestamp\":\"1744728990569077\",\"id\":\"1744728990569-0\"}\n",
      "📥 {\"type\":\"print\",\"data\":\"Requirement already satisfied: charset-normalizer<4,>=2 in /home/user/.local/lib/python3.12/site-packages (from requests>=2.26.0->docker->pyautogen==0.8.6->pyautogen[openai]==0.8.6) (3.4.1)\\n\",\"task_id\":\"019639f3895f430a086fb01da307da1f\",\"timestamp\":\"1744728990572279\",\"id\":\"1744728990572-0\"}\n",
      "📥 {\"type\":\"print\",\"data\":\"Requirements installed.\\nNOTE: If new packages were added and you are using Jupyter, you might need to restart the kernel.\\n\",\"task_id\":\"019639f3895f430a086fb01da307da1f\",\"timestamp\":\"1744728990887280\",\"id\":\"1744728990887-0\"}\n",
      "📥 {\"type\":\"print\",\"data\":\"<Waldiez> - Starting workflow...\\n\",\"task_id\":\"019639f3895f430a086fb01da307da1f\",\"timestamp\":\"1744728990921024\",\"id\":\"1744728990921-0\"}\n",
      "📥 {\"type\":\"input_request\",\"data\":\">\",\"password\":\"False\",\"request_id\":\"8385a114ed0848469b943a3260ab780f\",\"task_id\":\"019639f3895f430a086fb01da307da1f\",\"timestamp\":\"1744728990930964\",\"id\":\"1744728990931-0\"}\n",
      "📥 {\"type\":\"print\",\"data\":\"Installing requirements: pyautogen[openai]==0.8.6\\n\",\"task_id\":\"019639f3895f430a086fb01da307da1f\",\"timestamp\":\"1744728990055849\",\"id\":\"1744728990056-0\"}\n",
      "📥 {\"type\":\"print\",\"data\":\"Requirement already satisfied: pyautogen==0.8.6 in /home/user/.local/lib/python3.12/site-packages (from pyautogen[openai]==0.8.6) (0.8.6)\\n\",\"task_id\":\"019639f3895f430a086fb01da307da1f\",\"timestamp\":\"1744728990542072\",\"id\":\"1744728990542-0\"}\n",
      "📥 {\"type\":\"print\",\"data\":\"Requirement already satisfied: anyio<5.0.0,>=3.0.0 in /home/user/.local/lib/python3.12/site-packages (from pyautogen==0.8.6->pyautogen[openai]==0.8.6) (4.9.0)\\n\",\"task_id\":\"019639f3895f430a086fb01da307da1f\",\"timestamp\":\"1744728990552853\",\"id\":\"1744728990552-0\"}\n",
      "📥 {\"type\":\"print\",\"data\":\"Requirement already satisfied: asyncer==0.0.8 in /home/user/.local/lib/python3.12/site-packages (from pyautogen==0.8.6->pyautogen[openai]==0.8.6) (0.0.8)\\n\",\"task_id\":\"019639f3895f430a086fb01da307da1f\",\"timestamp\":\"1744728990553265\",\"id\":\"1744728990553-0\"}\n",
      "📥 {\"type\":\"print\",\"data\":\"Requirement already satisfied: diskcache in /home/user/.local/lib/python3.12/site-packages (from pyautogen==0.8.6->pyautogen[openai]==0.8.6) (5.6.3)\\n\",\"task_id\":\"019639f3895f430a086fb01da307da1f\",\"timestamp\":\"1744728990553794\",\"id\":\"1744728990553-1\"}\n",
      "📥 {\"type\":\"print\",\"data\":\"Requirement already satisfied: docker in /home/user/.local/lib/python3.12/site-packages (from pyautogen==0.8.6->pyautogen[openai]==0.8.6) (7.1.0)\\n\",\"task_id\":\"019639f3895f430a086fb01da307da1f\",\"timestamp\":\"1744728990554188\",\"id\":\"1744728990554-0\"}\n",
      "📥 {\"type\":\"print\",\"data\":\"Requirement already satisfied: httpx<1,>=0.28.1 in /home/user/.local/lib/python3.12/site-packages (from pyautogen==0.8.6->pyautogen[openai]==0.8.6) (0.28.1)\\n\",\"task_id\":\"019639f3895f430a086fb01da307da1f\",\"timestamp\":\"1744728990554525\",\"id\":\"1744728990554-1\"}\n",
      "📥 {\"type\":\"print\",\"data\":\"Requirement already satisfied: packaging in /home/user/.local/lib/python3.12/site-packages (from pyautogen==0.8.6->pyautogen[openai]==0.8.6) (24.2)\\n\",\"task_id\":\"019639f3895f430a086fb01da307da1f\",\"timestamp\":\"1744728990554834\",\"id\":\"1744728990554-2\"}\n",
      "📥 {\"type\":\"print\",\"data\":\"Requirement already satisfied: pydantic<3,>=2.6.1 in /home/user/.local/lib/python3.12/site-packages (from pyautogen==0.8.6->pyautogen[openai]==0.8.6) (2.11.3)\\n\",\"task_id\":\"019639f3895f430a086fb01da307da1f\",\"timestamp\":\"1744728990555141\",\"id\":\"1744728990555-0\"}\n",
      "📥 {\"type\":\"print\",\"data\":\"Requirement already satisfied: python-dotenv in /home/user/.local/lib/python3.12/site-packages (from pyautogen==0.8.6->pyautogen[openai]==0.8.6) (1.1.0)\\n\",\"task_id\":\"019639f3895f430a086fb01da307da1f\",\"timestamp\":\"1744728990555484\",\"id\":\"1744728990555-1\"}\n",
      "📥 {\"type\":\"print\",\"data\":\"Requirement already satisfied: termcolor in /home/user/.local/lib/python3.12/site-packages (from pyautogen==0.8.6->pyautogen[openai]==0.8.6) (3.0.1)\\n\",\"task_id\":\"019639f3895f430a086fb01da307da1f\",\"timestamp\":\"1744728990555844\",\"id\":\"1744728990555-2\"}\n",
      "📥 {\"type\":\"print\",\"data\":\"Requirement already satisfied: tiktoken in /home/user/.local/lib/python3.12/site-packages (from pyautogen==0.8.6->pyautogen[openai]==0.8.6) (0.9.0)\\n\",\"task_id\":\"019639f3895f430a086fb01da307da1f\",\"timestamp\":\"1744728990556130\",\"id\":\"1744728990556-0\"}\n",
      "📥 {\"type\":\"print\",\"data\":\"Requirement already satisfied: openai>=1.66.2 in /home/user/.local/lib/python3.12/site-packages (from pyautogen[openai]==0.8.6) (1.74.0)\\n\",\"task_id\":\"019639f3895f430a086fb01da307da1f\",\"timestamp\":\"1744728990556894\",\"id\":\"1744728990556-1\"}\n",
      "📥 {\"type\":\"print\",\"data\":\"Requirement already satisfied: idna>=2.8 in /home/user/.local/lib/python3.12/site-packages (from anyio<5.0.0,>=3.0.0->pyautogen==0.8.6->pyautogen[openai]==0.8.6) (3.10)\\n\",\"task_id\":\"019639f3895f430a086fb01da307da1f\",\"timestamp\":\"1744728990558646\",\"id\":\"1744728990558-0\"}\n",
      "📥 {\"type\":\"print\",\"data\":\"Requirement already satisfied: sniffio>=1.1 in /home/user/.local/lib/python3.12/site-packages (from anyio<5.0.0,>=3.0.0->pyautogen==0.8.6->pyautogen[openai]==0.8.6) (1.3.1)\\n\",\"task_id\":\"019639f3895f430a086fb01da307da1f\",\"timestamp\":\"1744728990558954\",\"id\":\"1744728990559-0\"}\n",
      "📥 {\"type\":\"print\",\"data\":\"Requirement already satisfied: typing_extensions>=4.5 in /home/user/.local/lib/python3.12/site-packages (from anyio<5.0.0,>=3.0.0->pyautogen==0.8.6->pyautogen[openai]==0.8.6) (4.13.2)\\n\",\"task_id\":\"019639f3895f430a086fb01da307da1f\",\"timestamp\":\"1744728990559283\",\"id\":\"1744728990559-1\"}\n",
      "📥 {\"type\":\"print\",\"data\":\"Requirement already satisfied: certifi in /home/user/.local/lib/python3.12/site-packages (from httpx<1,>=0.28.1->pyautogen==0.8.6->pyautogen[openai]==0.8.6) (2025.1.31)\\n\",\"task_id\":\"019639f3895f430a086fb01da307da1f\",\"timestamp\":\"1744728990560086\",\"id\":\"1744728990560-0\"}\n",
      "📥 {\"type\":\"print\",\"data\":\"Requirement already satisfied: httpcore==1.* in /home/user/.local/lib/python3.12/site-packages (from httpx<1,>=0.28.1->pyautogen==0.8.6->pyautogen[openai]==0.8.6) (1.0.8)\\n\",\"task_id\":\"019639f3895f430a086fb01da307da1f\",\"timestamp\":\"1744728990560330\",\"id\":\"1744728990560-1\"}\n",
      "📥 {\"type\":\"print\",\"data\":\"Requirement already satisfied: h11<0.15,>=0.13 in /home/user/.local/lib/python3.12/site-packages (from httpcore==1.*->httpx<1,>=0.28.1->pyautogen==0.8.6->pyautogen[openai]==0.8.6) (0.14.0)\\n\",\"task_id\":\"019639f3895f430a086fb01da307da1f\",\"timestamp\":\"1744728990561161\",\"id\":\"1744728990561-0\"}\n",
      "📥 {\"type\":\"print\",\"data\":\"Requirement already satisfied: distro<2,>=1.7.0 in /home/user/.local/lib/python3.12/site-packages (from openai>=1.66.2->pyautogen[openai]==0.8.6) (1.9.0)\\n\",\"task_id\":\"019639f3895f430a086fb01da307da1f\",\"timestamp\":\"1744728990562467\",\"id\":\"1744728990562-0\"}\n",
      "📥 {\"type\":\"print\",\"data\":\"Requirement already satisfied: jiter<1,>=0.4.0 in /home/user/.local/lib/python3.12/site-packages (from openai>=1.66.2->pyautogen[openai]==0.8.6) (0.9.0)\\n\",\"task_id\":\"019639f3895f430a086fb01da307da1f\",\"timestamp\":\"1744728990562730\",\"id\":\"1744728990562-1\"}\n",
      "📥 {\"type\":\"print\",\"data\":\"Requirement already satisfied: tqdm>4 in /home/user/.local/lib/python3.12/site-packages (from openai>=1.66.2->pyautogen[openai]==0.8.6) (4.67.1)\\n\",\"task_id\":\"019639f3895f430a086fb01da307da1f\",\"timestamp\":\"1744728990563023\",\"id\":\"1744728990563-0\"}\n",
      "📥 {\"type\":\"print\",\"data\":\"Requirement already satisfied: annotated-types>=0.6.0 in /home/user/.local/lib/python3.12/site-packages (from pydantic<3,>=2.6.1->pyautogen==0.8.6->pyautogen[openai]==0.8.6) (0.7.0)\\n\",\"task_id\":\"019639f3895f430a086fb01da307da1f\",\"timestamp\":\"1744728990564103\",\"id\":\"1744728990564-0\"}\n",
      "📥 {\"type\":\"print\",\"data\":\"Requirement already satisfied: pydantic-core==2.33.1 in /home/user/.local/lib/python3.12/site-packages (from pydantic<3,>=2.6.1->pyautogen==0.8.6->pyautogen[openai]==0.8.6) (2.33.1)\\n\",\"task_id\":\"019639f3895f430a086fb01da307da1f\",\"timestamp\":\"1744728990564393\",\"id\":\"1744728990564-1\"}\n",
      "📥 {\"type\":\"print\",\"data\":\"Requirement already satisfied: typing-inspection>=0.4.0 in /home/user/.local/lib/python3.12/site-packages (from pydantic<3,>=2.6.1->pyautogen==0.8.6->pyautogen[openai]==0.8.6) (0.4.0)\\n\",\"task_id\":\"019639f3895f430a086fb01da307da1f\",\"timestamp\":\"1744728990564716\",\"id\":\"1744728990564-2\"}\n",
      "📥 {\"type\":\"print\",\"data\":\"Requirement already satisfied: requests>=2.26.0 in /home/user/.local/lib/python3.12/site-packages (from docker->pyautogen==0.8.6->pyautogen[openai]==0.8.6) (2.32.3)\\n\",\"task_id\":\"019639f3895f430a086fb01da307da1f\",\"timestamp\":\"1744728990566859\",\"id\":\"1744728990566-0\"}\n",
      "📥 {\"type\":\"print\",\"data\":\"Requirement already satisfied: urllib3>=1.26.0 in /home/user/.local/lib/python3.12/site-packages (from docker->pyautogen==0.8.6->pyautogen[openai]==0.8.6) (2.4.0)\\n\",\"task_id\":\"019639f3895f430a086fb01da307da1f\",\"timestamp\":\"1744728990567114\",\"id\":\"1744728990567-0\"}\n",
      "📥 {\"type\":\"print\",\"data\":\"Requirement already satisfied: regex>=2022.1.18 in /home/user/.local/lib/python3.12/site-packages (from tiktoken->pyautogen==0.8.6->pyautogen[openai]==0.8.6) (2024.11.6)\\n\",\"task_id\":\"019639f3895f430a086fb01da307da1f\",\"timestamp\":\"1744728990569077\",\"id\":\"1744728990569-0\"}\n",
      "📥 {\"type\":\"print\",\"data\":\"Requirement already satisfied: charset-normalizer<4,>=2 in /home/user/.local/lib/python3.12/site-packages (from requests>=2.26.0->docker->pyautogen==0.8.6->pyautogen[openai]==0.8.6) (3.4.1)\\n\",\"task_id\":\"019639f3895f430a086fb01da307da1f\",\"timestamp\":\"1744728990572279\",\"id\":\"1744728990572-0\"}\n",
      "📥 {\"type\":\"print\",\"data\":\"Requirements installed.\\nNOTE: If new packages were added and you are using Jupyter, you might need to restart the kernel.\\n\",\"task_id\":\"019639f3895f430a086fb01da307da1f\",\"timestamp\":\"1744728990887280\",\"id\":\"1744728990887-0\"}\n",
      "📥 {\"type\":\"print\",\"data\":\"<Waldiez> - Starting workflow...\\n\",\"task_id\":\"019639f3895f430a086fb01da307da1f\",\"timestamp\":\"1744728990921024\",\"id\":\"1744728990921-0\"}\n",
      "📥 {\"type\":\"input_request\",\"data\":\">\",\"password\":\"False\",\"request_id\":\"8385a114ed0848469b943a3260ab780f\",\"task_id\":\"019639f3895f430a086fb01da307da1f\",\"timestamp\":\"1744728990930964\",\"id\":\"1744728990931-0\"}\n",
      "📥 {\"request_id\":\"8385a114ed0848469b943a3260ab780f\",\"type\":\"input_response\",\"data\":\"Hello world!\",\"task_id\":\"019639f3895f430a086fb01da307da1f\",\"timestamp\":\"1744728992178964\",\"id\":\"1744728992179-0\"}\n",
      "📥 {\"type\":\"print\",\"data\":\"{\\\"type\\\":\\\"text\\\",\\\"content\\\":{\\\"uuid\\\":\\\"b0f054a5-8649-484c-a3d1-01548a3ce1cb\\\",\\\"content\\\":\\\"Hello world!\\\",\\\"sender\\\":\\\"user1\\\",\\\"recipient\\\":\\\"assistant_1a\\\"}}\",\"task_id\":\"019639f3895f430a086fb01da307da1f\",\"timestamp\":\"1744728992184167\",\"id\":\"1744728992184-0\"}\n",
      "📥 {\"type\":\"print\",\"data\":\"{\\\"type\\\":\\\"text\\\",\\\"content\\\":{\\\"uuid\\\":\\\"47c9f445-5224-4f49-af9c-852e5fb33160\\\",\\\"content\\\":\\\"Hello from Assistant 1A\\\",\\\"sender\\\":\\\"assistant_1a\\\",\\\"recipient\\\":\\\"user1\\\"}}\",\"task_id\":\"019639f3895f430a086fb01da307da1f\",\"timestamp\":\"1744728992193500\",\"id\":\"1744728992193-0\"}\n",
      "📥 {\"type\":\"input_request\",\"data\":\"Replying as user1. Provide feedback to assistant_1a. Press enter to skip and use auto-reply, or type 'exit' to end the conversation: \",\"password\":\"False\",\"request_id\":\"826490a32d9e42509bdf5081d48284c5\",\"task_id\":\"019639f3895f430a086fb01da307da1f\",\"timestamp\":\"1744728992194195\",\"id\":\"1744728992194-0\"}\n",
      "📥 {\"type\":\"print\",\"data\":\"Installing requirements: pyautogen[openai]==0.8.6\\n\",\"task_id\":\"019639f3895f430a086fb01da307da1f\",\"timestamp\":\"1744728990055849\",\"id\":\"1744728990056-0\"}\n",
      "📥 {\"type\":\"print\",\"data\":\"Requirement already satisfied: pyautogen==0.8.6 in /home/user/.local/lib/python3.12/site-packages (from pyautogen[openai]==0.8.6) (0.8.6)\\n\",\"task_id\":\"019639f3895f430a086fb01da307da1f\",\"timestamp\":\"1744728990542072\",\"id\":\"1744728990542-0\"}\n",
      "📥 {\"type\":\"print\",\"data\":\"Requirement already satisfied: anyio<5.0.0,>=3.0.0 in /home/user/.local/lib/python3.12/site-packages (from pyautogen==0.8.6->pyautogen[openai]==0.8.6) (4.9.0)\\n\",\"task_id\":\"019639f3895f430a086fb01da307da1f\",\"timestamp\":\"1744728990552853\",\"id\":\"1744728990552-0\"}\n",
      "📥 {\"type\":\"print\",\"data\":\"Requirement already satisfied: asyncer==0.0.8 in /home/user/.local/lib/python3.12/site-packages (from pyautogen==0.8.6->pyautogen[openai]==0.8.6) (0.0.8)\\n\",\"task_id\":\"019639f3895f430a086fb01da307da1f\",\"timestamp\":\"1744728990553265\",\"id\":\"1744728990553-0\"}\n",
      "📥 {\"type\":\"print\",\"data\":\"Requirement already satisfied: diskcache in /home/user/.local/lib/python3.12/site-packages (from pyautogen==0.8.6->pyautogen[openai]==0.8.6) (5.6.3)\\n\",\"task_id\":\"019639f3895f430a086fb01da307da1f\",\"timestamp\":\"1744728990553794\",\"id\":\"1744728990553-1\"}\n",
      "📥 {\"type\":\"print\",\"data\":\"Requirement already satisfied: docker in /home/user/.local/lib/python3.12/site-packages (from pyautogen==0.8.6->pyautogen[openai]==0.8.6) (7.1.0)\\n\",\"task_id\":\"019639f3895f430a086fb01da307da1f\",\"timestamp\":\"1744728990554188\",\"id\":\"1744728990554-0\"}\n",
      "📥 {\"type\":\"print\",\"data\":\"Requirement already satisfied: httpx<1,>=0.28.1 in /home/user/.local/lib/python3.12/site-packages (from pyautogen==0.8.6->pyautogen[openai]==0.8.6) (0.28.1)\\n\",\"task_id\":\"019639f3895f430a086fb01da307da1f\",\"timestamp\":\"1744728990554525\",\"id\":\"1744728990554-1\"}\n",
      "📥 {\"type\":\"print\",\"data\":\"Requirement already satisfied: packaging in /home/user/.local/lib/python3.12/site-packages (from pyautogen==0.8.6->pyautogen[openai]==0.8.6) (24.2)\\n\",\"task_id\":\"019639f3895f430a086fb01da307da1f\",\"timestamp\":\"1744728990554834\",\"id\":\"1744728990554-2\"}\n",
      "📥 {\"type\":\"print\",\"data\":\"Requirement already satisfied: pydantic<3,>=2.6.1 in /home/user/.local/lib/python3.12/site-packages (from pyautogen==0.8.6->pyautogen[openai]==0.8.6) (2.11.3)\\n\",\"task_id\":\"019639f3895f430a086fb01da307da1f\",\"timestamp\":\"1744728990555141\",\"id\":\"1744728990555-0\"}\n",
      "📥 {\"type\":\"print\",\"data\":\"Requirement already satisfied: python-dotenv in /home/user/.local/lib/python3.12/site-packages (from pyautogen==0.8.6->pyautogen[openai]==0.8.6) (1.1.0)\\n\",\"task_id\":\"019639f3895f430a086fb01da307da1f\",\"timestamp\":\"1744728990555484\",\"id\":\"1744728990555-1\"}\n",
      "📥 {\"type\":\"print\",\"data\":\"Requirement already satisfied: termcolor in /home/user/.local/lib/python3.12/site-packages (from pyautogen==0.8.6->pyautogen[openai]==0.8.6) (3.0.1)\\n\",\"task_id\":\"019639f3895f430a086fb01da307da1f\",\"timestamp\":\"1744728990555844\",\"id\":\"1744728990555-2\"}\n",
      "📥 {\"type\":\"print\",\"data\":\"Requirement already satisfied: tiktoken in /home/user/.local/lib/python3.12/site-packages (from pyautogen==0.8.6->pyautogen[openai]==0.8.6) (0.9.0)\\n\",\"task_id\":\"019639f3895f430a086fb01da307da1f\",\"timestamp\":\"1744728990556130\",\"id\":\"1744728990556-0\"}\n",
      "📥 {\"type\":\"print\",\"data\":\"Requirement already satisfied: openai>=1.66.2 in /home/user/.local/lib/python3.12/site-packages (from pyautogen[openai]==0.8.6) (1.74.0)\\n\",\"task_id\":\"019639f3895f430a086fb01da307da1f\",\"timestamp\":\"1744728990556894\",\"id\":\"1744728990556-1\"}\n",
      "📥 {\"type\":\"print\",\"data\":\"Requirement already satisfied: idna>=2.8 in /home/user/.local/lib/python3.12/site-packages (from anyio<5.0.0,>=3.0.0->pyautogen==0.8.6->pyautogen[openai]==0.8.6) (3.10)\\n\",\"task_id\":\"019639f3895f430a086fb01da307da1f\",\"timestamp\":\"1744728990558646\",\"id\":\"1744728990558-0\"}\n",
      "📥 {\"type\":\"print\",\"data\":\"Requirement already satisfied: sniffio>=1.1 in /home/user/.local/lib/python3.12/site-packages (from anyio<5.0.0,>=3.0.0->pyautogen==0.8.6->pyautogen[openai]==0.8.6) (1.3.1)\\n\",\"task_id\":\"019639f3895f430a086fb01da307da1f\",\"timestamp\":\"1744728990558954\",\"id\":\"1744728990559-0\"}\n",
      "📥 {\"type\":\"print\",\"data\":\"Requirement already satisfied: typing_extensions>=4.5 in /home/user/.local/lib/python3.12/site-packages (from anyio<5.0.0,>=3.0.0->pyautogen==0.8.6->pyautogen[openai]==0.8.6) (4.13.2)\\n\",\"task_id\":\"019639f3895f430a086fb01da307da1f\",\"timestamp\":\"1744728990559283\",\"id\":\"1744728990559-1\"}\n",
      "📥 {\"type\":\"print\",\"data\":\"Requirement already satisfied: certifi in /home/user/.local/lib/python3.12/site-packages (from httpx<1,>=0.28.1->pyautogen==0.8.6->pyautogen[openai]==0.8.6) (2025.1.31)\\n\",\"task_id\":\"019639f3895f430a086fb01da307da1f\",\"timestamp\":\"1744728990560086\",\"id\":\"1744728990560-0\"}\n",
      "📥 {\"type\":\"print\",\"data\":\"Requirement already satisfied: httpcore==1.* in /home/user/.local/lib/python3.12/site-packages (from httpx<1,>=0.28.1->pyautogen==0.8.6->pyautogen[openai]==0.8.6) (1.0.8)\\n\",\"task_id\":\"019639f3895f430a086fb01da307da1f\",\"timestamp\":\"1744728990560330\",\"id\":\"1744728990560-1\"}\n",
      "📥 {\"type\":\"print\",\"data\":\"Requirement already satisfied: h11<0.15,>=0.13 in /home/user/.local/lib/python3.12/site-packages (from httpcore==1.*->httpx<1,>=0.28.1->pyautogen==0.8.6->pyautogen[openai]==0.8.6) (0.14.0)\\n\",\"task_id\":\"019639f3895f430a086fb01da307da1f\",\"timestamp\":\"1744728990561161\",\"id\":\"1744728990561-0\"}\n",
      "📥 {\"type\":\"print\",\"data\":\"Requirement already satisfied: distro<2,>=1.7.0 in /home/user/.local/lib/python3.12/site-packages (from openai>=1.66.2->pyautogen[openai]==0.8.6) (1.9.0)\\n\",\"task_id\":\"019639f3895f430a086fb01da307da1f\",\"timestamp\":\"1744728990562467\",\"id\":\"1744728990562-0\"}\n",
      "📥 {\"type\":\"print\",\"data\":\"Requirement already satisfied: jiter<1,>=0.4.0 in /home/user/.local/lib/python3.12/site-packages (from openai>=1.66.2->pyautogen[openai]==0.8.6) (0.9.0)\\n\",\"task_id\":\"019639f3895f430a086fb01da307da1f\",\"timestamp\":\"1744728990562730\",\"id\":\"1744728990562-1\"}\n",
      "📥 {\"type\":\"print\",\"data\":\"Requirement already satisfied: tqdm>4 in /home/user/.local/lib/python3.12/site-packages (from openai>=1.66.2->pyautogen[openai]==0.8.6) (4.67.1)\\n\",\"task_id\":\"019639f3895f430a086fb01da307da1f\",\"timestamp\":\"1744728990563023\",\"id\":\"1744728990563-0\"}\n",
      "📥 {\"type\":\"print\",\"data\":\"Requirement already satisfied: annotated-types>=0.6.0 in /home/user/.local/lib/python3.12/site-packages (from pydantic<3,>=2.6.1->pyautogen==0.8.6->pyautogen[openai]==0.8.6) (0.7.0)\\n\",\"task_id\":\"019639f3895f430a086fb01da307da1f\",\"timestamp\":\"1744728990564103\",\"id\":\"1744728990564-0\"}\n",
      "📥 {\"type\":\"print\",\"data\":\"Requirement already satisfied: pydantic-core==2.33.1 in /home/user/.local/lib/python3.12/site-packages (from pydantic<3,>=2.6.1->pyautogen==0.8.6->pyautogen[openai]==0.8.6) (2.33.1)\\n\",\"task_id\":\"019639f3895f430a086fb01da307da1f\",\"timestamp\":\"1744728990564393\",\"id\":\"1744728990564-1\"}\n",
      "📥 {\"type\":\"print\",\"data\":\"Requirement already satisfied: typing-inspection>=0.4.0 in /home/user/.local/lib/python3.12/site-packages (from pydantic<3,>=2.6.1->pyautogen==0.8.6->pyautogen[openai]==0.8.6) (0.4.0)\\n\",\"task_id\":\"019639f3895f430a086fb01da307da1f\",\"timestamp\":\"1744728990564716\",\"id\":\"1744728990564-2\"}\n",
      "📥 {\"type\":\"print\",\"data\":\"Requirement already satisfied: requests>=2.26.0 in /home/user/.local/lib/python3.12/site-packages (from docker->pyautogen==0.8.6->pyautogen[openai]==0.8.6) (2.32.3)\\n\",\"task_id\":\"019639f3895f430a086fb01da307da1f\",\"timestamp\":\"1744728990566859\",\"id\":\"1744728990566-0\"}\n",
      "📥 {\"type\":\"print\",\"data\":\"Requirement already satisfied: urllib3>=1.26.0 in /home/user/.local/lib/python3.12/site-packages (from docker->pyautogen==0.8.6->pyautogen[openai]==0.8.6) (2.4.0)\\n\",\"task_id\":\"019639f3895f430a086fb01da307da1f\",\"timestamp\":\"1744728990567114\",\"id\":\"1744728990567-0\"}\n",
      "📥 {\"type\":\"print\",\"data\":\"Requirement already satisfied: regex>=2022.1.18 in /home/user/.local/lib/python3.12/site-packages (from tiktoken->pyautogen==0.8.6->pyautogen[openai]==0.8.6) (2024.11.6)\\n\",\"task_id\":\"019639f3895f430a086fb01da307da1f\",\"timestamp\":\"1744728990569077\",\"id\":\"1744728990569-0\"}\n",
      "📥 {\"type\":\"print\",\"data\":\"Requirement already satisfied: charset-normalizer<4,>=2 in /home/user/.local/lib/python3.12/site-packages (from requests>=2.26.0->docker->pyautogen==0.8.6->pyautogen[openai]==0.8.6) (3.4.1)\\n\",\"task_id\":\"019639f3895f430a086fb01da307da1f\",\"timestamp\":\"1744728990572279\",\"id\":\"1744728990572-0\"}\n",
      "📥 {\"type\":\"print\",\"data\":\"Requirements installed.\\nNOTE: If new packages were added and you are using Jupyter, you might need to restart the kernel.\\n\",\"task_id\":\"019639f3895f430a086fb01da307da1f\",\"timestamp\":\"1744728990887280\",\"id\":\"1744728990887-0\"}\n",
      "📥 {\"type\":\"print\",\"data\":\"<Waldiez> - Starting workflow...\\n\",\"task_id\":\"019639f3895f430a086fb01da307da1f\",\"timestamp\":\"1744728990921024\",\"id\":\"1744728990921-0\"}\n",
      "📥 {\"type\":\"input_request\",\"data\":\">\",\"password\":\"False\",\"request_id\":\"8385a114ed0848469b943a3260ab780f\",\"task_id\":\"019639f3895f430a086fb01da307da1f\",\"timestamp\":\"1744728990930964\",\"id\":\"1744728990931-0\"}\n",
      "📥 {\"request_id\":\"8385a114ed0848469b943a3260ab780f\",\"type\":\"input_response\",\"data\":\"Hello world!\",\"task_id\":\"019639f3895f430a086fb01da307da1f\",\"timestamp\":\"1744728992178964\",\"id\":\"1744728992179-0\"}\n",
      "📥 {\"type\":\"print\",\"data\":\"{\\\"type\\\":\\\"text\\\",\\\"content\\\":{\\\"uuid\\\":\\\"b0f054a5-8649-484c-a3d1-01548a3ce1cb\\\",\\\"content\\\":\\\"Hello world!\\\",\\\"sender\\\":\\\"user1\\\",\\\"recipient\\\":\\\"assistant_1a\\\"}}\",\"task_id\":\"019639f3895f430a086fb01da307da1f\",\"timestamp\":\"1744728992184167\",\"id\":\"1744728992184-0\"}\n",
      "📥 {\"type\":\"print\",\"data\":\"{\\\"type\\\":\\\"text\\\",\\\"content\\\":{\\\"uuid\\\":\\\"47c9f445-5224-4f49-af9c-852e5fb33160\\\",\\\"content\\\":\\\"Hello from Assistant 1A\\\",\\\"sender\\\":\\\"assistant_1a\\\",\\\"recipient\\\":\\\"user1\\\"}}\",\"task_id\":\"019639f3895f430a086fb01da307da1f\",\"timestamp\":\"1744728992193500\",\"id\":\"1744728992193-0\"}\n",
      "📥 {\"type\":\"input_request\",\"data\":\"Replying as user1. Provide feedback to assistant_1a. Press enter to skip and use auto-reply, or type 'exit' to end the conversation: \",\"password\":\"False\",\"request_id\":\"826490a32d9e42509bdf5081d48284c5\",\"task_id\":\"019639f3895f430a086fb01da307da1f\",\"timestamp\":\"1744728992194195\",\"id\":\"1744728992194-0\"}\n",
      "📥 {\"request_id\":\"826490a32d9e42509bdf5081d48284c5\",\"type\":\"input_response\",\"data\":\"Hello world!\",\"task_id\":\"019639f3895f430a086fb01da307da1f\",\"timestamp\":\"1744728994170524\",\"id\":\"1744728994170-0\"}\n",
      "📥 {\"type\":\"print\",\"data\":\"{\\\"type\\\":\\\"text\\\",\\\"content\\\":{\\\"uuid\\\":\\\"a7fc244d-f1ea-4ca5-9b24-c3bae9f6a289\\\",\\\"content\\\":\\\"Hello world!\\\",\\\"sender\\\":\\\"user1\\\",\\\"recipient\\\":\\\"assistant_1a\\\"}}\",\"task_id\":\"019639f3895f430a086fb01da307da1f\",\"timestamp\":\"1744728994177939\",\"id\":\"1744728994178-0\"}\n",
      "📥 {\"type\":\"print\",\"data\":\"{\\\"type\\\":\\\"text\\\",\\\"content\\\":{\\\"uuid\\\":\\\"70f9a7d2-df1f-4fe6-a44c-2d083484c0f2\\\",\\\"content\\\":\\\"Hello from Assistant 1A\\\",\\\"sender\\\":\\\"assistant_1a\\\",\\\"recipient\\\":\\\"user1\\\"}}\",\"task_id\":\"019639f3895f430a086fb01da307da1f\",\"timestamp\":\"1744728994185990\",\"id\":\"1744728994186-0\"}\n",
      "📥 {\"type\":\"print\",\"data\":\"{\\\"type\\\":\\\"termination\\\",\\\"content\\\":{\\\"uuid\\\":\\\"4f903fbd-6c08-43e4-a9ae-a0b879947614\\\",\\\"termination_reason\\\":\\\"Maximum turns (2) reached\\\"}}\",\"task_id\":\"019639f3895f430a086fb01da307da1f\",\"timestamp\":\"1744728994186574\",\"id\":\"1744728994186-1\"}\n",
      "📥 {\"type\":\"print\",\"data\":\"<Waldiez> - Workflow finished\\n\",\"task_id\":\"019639f3895f430a086fb01da307da1f\",\"timestamp\":\"1744728994189983\",\"id\":\"1744728994190-0\"}\n",
      "📥 {\"type\":\"print\",\"data\":\"Generating mermaid sequence diagram...\\n\",\"task_id\":\"019639f3895f430a086fb01da307da1f\",\"timestamp\":\"1744728994190534\",\"id\":\"1744728994190-1\"}\n",
      "📥 {\"type\":\"print\",\"data\":\"Copying the results to /tmp/tmpo3mjmb6b/019639f3883389a81a44eaafc0f70376/019639f3895f430a086fb01da307da1f/app/waldiez_out/20250415145634\\n\",\"task_id\":\"019639f3895f430a086fb01da307da1f\",\"timestamp\":\"1744728994194038\",\"id\":\"1744728994194-0\"}\n"
     ]
    },
    {
     "name": "stderr",
     "output_type": "stream",
     "text": [
      "WebSocket Error (sync): did not receive a valid HTTP response, reconnecting in 2 seconds...\n",
      "WebSocket Error (sync): [Errno 61] Connection refused, reconnecting in 4 seconds...\n",
      "WebSocket Error (sync): [Errno 61] Connection refused, reconnecting in 8 seconds...\n",
      "WebSocket Error (sync): [Errno 61] Connection refused, reconnecting in 16 seconds...\n",
      "WebSocket Error (sync): [Errno 61] Connection refused, reconnecting in 30 seconds...\n",
      "Stopping listener due to stop event.\n"
     ]
    },
    {
     "name": "stdout",
     "output_type": "stream",
     "text": [
      "❌ Error: [Errno 61] Connection refused\n"
     ]
    }
   ],
   "source": [
    "from queue import Queue\n",
    "\n",
    "queue: Queue[str] = Queue()\n",
    "\n",
    "\n",
    "def on_message(msg: str):\n",
    "    print(\"📥\", msg)\n",
    "    queue.put(msg)\n",
    "\n",
    "\n",
    "def on_error(err: str):\n",
    "    print(\"❌ Error:\", err)\n",
    "\n",
    "\n",
    "client.start_ws_listener(\n",
    "    task_id=task.id, on_message=on_message, on_error=on_error\n",
    ")"
   ]
  },
  {
   "cell_type": "markdown",
   "id": "e36c88bc",
   "metadata": {},
   "source": [
    "## 🎤 Send Input (if prompted)"
   ]
  },
  {
   "cell_type": "code",
   "execution_count": 15,
   "id": "a0c0bb87",
   "metadata": {},
   "outputs": [],
   "source": [
    "def send_input(request_id: str, data: str):\n",
    "    input_msg = UserInputRequest(\n",
    "        task_id=task.id,\n",
    "        request_id=request_id,\n",
    "        data=data,\n",
    "    )\n",
    "    # alternatively, as plain dict:\n",
    "    # input_msg = {\n",
    "    #     \"task_id\": task.id,\n",
    "    #     \"request_id\": request_id,\n",
    "    #     \"data\": data,\n",
    "    # }\n",
    "    client.send_user_input(request_data=input_msg)"
   ]
  },
  {
   "cell_type": "markdown",
   "id": "c80bf2d9",
   "metadata": {},
   "source": [
    "## ⏳ Wait for Completion and Download Results"
   ]
  },
  {
   "cell_type": "code",
   "execution_count": 16,
   "id": "dca17c8b",
   "metadata": {},
   "outputs": [
    {
     "name": "stdout",
     "output_type": "stream",
     "text": [
      "⏳ Status: TaskStatus.PENDING\n",
      "⏳ Status: TaskStatus.PENDING\n",
      "⏳ Status: TaskStatus.PENDING\n",
      "⏳ Status: TaskStatus.PENDING\n",
      "⏳ Status: TaskStatus.WAITING_FOR_INPUT\n",
      "⏳ Status: TaskStatus.WAITING_FOR_INPUT\n",
      "Finished: TaskStatus.COMPLETED\n",
      "📁 Results saved to results.zip\n"
     ]
    }
   ],
   "source": [
    "import time\n",
    "\n",
    "while True:\n",
    "    current = client.get_task_status(task_id=task.id)\n",
    "    if current.status in (\n",
    "        TaskStatus.COMPLETED,\n",
    "        TaskStatus.FAILED,\n",
    "        TaskStatus.CANCELLED,\n",
    "    ):\n",
    "        print(\"Finished:\", current.status)\n",
    "        break\n",
    "    print(\"⏳ Status:\", current.status)\n",
    "    if current.status == TaskStatus.WAITING_FOR_INPUT:\n",
    "        send_input(request_id=current.input_request_id, data=\"Hello world!\")\n",
    "    time.sleep(2)\n",
    "\n",
    "zip_data = client.download_task_results(task_id=task.id)\n",
    "with open(\"results.zip\", \"wb\") as f:\n",
    "    f.write(zip_data)\n",
    "print(\"📁 Results saved to results.zip\")"
   ]
  },
  {
   "cell_type": "code",
   "execution_count": 17,
   "id": "130a7a18",
   "metadata": {},
   "outputs": [
    {
     "name": "stdout",
     "output_type": "stream",
     "text": [
      "📂 Unzipped results to results\n",
      "📄 dummy_with_input.waldiez\n",
      "📄 waldiez_flow_api_keys.py\n",
      "📄 dummy_with_input.py\n",
      "📄 Waldiez flow.mmd\n",
      "📄 flow.db\n",
      "📄 oai_wrappers.csv\n",
      "📄 oai_clients.csv\n",
      "📄 version.json\n",
      "📄 function_calls.csv\n",
      "📄 events.json\n",
      "📄 chat_completions.json\n",
      "📄 version.csv\n",
      "📄 agents.json\n",
      "📄 function_calls.json\n",
      "📄 oai_wrappers.json\n",
      "📄 oai_clients.json\n",
      "📄 chat_completions.csv\n",
      "📄 agents.csv\n",
      "📄 events.csv\n"
     ]
    }
   ],
   "source": [
    "import os\n",
    "import zipfile\n",
    "\n",
    "# Unzip the results\n",
    "with zipfile.ZipFile(\"results.zip\", \"r\") as zip_ref:\n",
    "    zip_ref.extractall(\"results\")\n",
    "print(\"📂 Unzipped results to results\")\n",
    "for root, dirs, files in os.walk(\"results\"):\n",
    "    for file in files:\n",
    "        print(f\"📄 {file}\")"
   ]
  },
  {
   "cell_type": "markdown",
   "id": "6891fbe8",
   "metadata": {},
   "source": [
    "## 🗑️ Cleanup"
   ]
  },
  {
   "cell_type": "code",
   "execution_count": 18,
   "id": "a63e5447",
   "metadata": {},
   "outputs": [
    {
     "name": "stdout",
     "output_type": "stream",
     "text": [
      "🗑️ Deleted results directory.\n",
      "🗑️ Deleted results.zip\n",
      "🗑️ Deleted tasks-api client.\n",
      "🗑️ Deleted environment variables.\n"
     ]
    }
   ],
   "source": [
    "import shutil\n",
    "import os\n",
    "\n",
    "# Clean up the results\n",
    "if os.path.exists(\"results\"):\n",
    "    shutil.rmtree(\"results\")\n",
    "    print(\"🗑️ Deleted results directory.\")\n",
    "\n",
    "if os.path.exists(\"results.zip\"):\n",
    "    os.remove(\"results.zip\")\n",
    "    print(\"🗑️ Deleted results.zip\")\n",
    "\n",
    "if CREATED_NEW_CLIENT:\n",
    "    clients_admin = ClientsAdmin()\n",
    "    clients_admin.configure(BASE_URL, CLIENT_ID, CLIENT_SECRET)\n",
    "    clients_admin.delete_client(client_id=TASKS_CLIENT_ID)\n",
    "    print(\"🗑️ Deleted tasks-api client.\")\n",
    "\n",
    "os.environ.pop(\"WALDIEZ_CLIENT_ID\", None)\n",
    "os.environ.pop(\"WALDIEZ_CLIENT_SECRET\", None)\n",
    "os.environ.pop(\"WALDIEZ_AUDIENCE\", None)\n",
    "print(\"🗑️ Deleted environment variables.\")"
   ]
  }
 ],
 "metadata": {
  "kernelspec": {
   "display_name": ".venv",
   "language": "python",
   "name": "python3"
  },
  "language_info": {
   "codemirror_mode": {
    "name": "ipython",
    "version": 3
   },
   "file_extension": ".py",
   "mimetype": "text/x-python",
   "name": "python",
   "nbconvert_exporter": "python",
   "pygments_lexer": "ipython3",
   "version": "3.13.2"
  }
 },
 "nbformat": 4,
 "nbformat_minor": 5
}
