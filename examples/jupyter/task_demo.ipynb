{
 "cells": [
  {
   "cell_type": "markdown",
   "id": "5fc0d3de",
   "metadata": {},
   "source": [
    "# Waldiez Runner: Jupyter Notebook Example\n",
    "\n",
    "This notebook demonstrates how to interact with the Waldiez Runner server using the client SDK. It covers:\n",
    "- Authentication (via `clients-api` or `tasks-api`)\n",
    "- Creating and managing tasks\n",
    "- Listening to task output via WebSocket\n",
    "- Sending input to running tasks\n",
    "- Downloading results\n"
   ]
  },
  {
   "cell_type": "markdown",
   "id": "56e2d27d",
   "metadata": {},
   "source": [
    "## 🔐 Authentication"
   ]
  },
  {
   "cell_type": "code",
   "execution_count": 1,
   "id": "e7bd1545",
   "metadata": {},
   "outputs": [],
   "source": [
    "import os\n",
    "import sys\n",
    "from pathlib import Path\n",
    "\n",
    "try:\n",
    "    from waldiez_runner.client import (\n",
    "        TasksClient,\n",
    "        TaskStatus,\n",
    "        ClientsAdmin,\n",
    "        ClientCreateRequest,\n",
    "        ClientCreateResponse,\n",
    "        TaskCreateRequest,\n",
    "        UserInputRequest,\n",
    "    )\n",
    "except ImportError:\n",
    "    # Likely running from examples/jupyter — add project root to path\n",
    "    sys.path.append(str(Path(\".\").resolve().parent.parent))\n",
    "    from waldiez_runner.client import (\n",
    "        TasksClient,\n",
    "        TaskStatus,\n",
    "        ClientsAdmin,\n",
    "        ClientCreateRequest,\n",
    "        ClientCreateResponse,\n",
    "        TaskCreateRequest,\n",
    "        UserInputRequest,\n",
    "    )\n",
    "\n",
    "# Base URL for the API\n",
    "BASE_URL = os.environ.get(\"BASE_URL\", \"http://localhost:8000\")\n",
    "\n",
    "# Auth credentials from env or prompt\n",
    "_CLIENT_ID = os.environ.get(\"CLIENT_ID\") or input(\"CLIENT_ID: \")\n",
    "_CLIENT_SECRET = os.environ.get(\"CLIENT_SECRET\") or input(\"CLIENT_SECRET: \")\n",
    "_AUDIENCE = os.environ.get(\"AUDIENCE\") or input(\"AUDIENCE: \")\n",
    "CLIENT_ID = _CLIENT_ID.strip()\n",
    "CLIENT_SECRET = _CLIENT_SECRET.strip()\n",
    "AUDIENCE = _AUDIENCE.strip()\n",
    "os.environ[\"WALDIEZ_CLIENT_ID\"] = CLIENT_ID\n",
    "os.environ[\"WALDIEZ_CLIENT_SECRET\"] = CLIENT_SECRET\n",
    "os.environ[\"WALDIEZ_AUDIENCE\"] = AUDIENCE"
   ]
  },
  {
   "cell_type": "code",
   "execution_count": 2,
   "id": "612d2bfc",
   "metadata": {},
   "outputs": [
    {
     "name": "stdout",
     "output_type": "stream",
     "text": [
      "Creating a new client with tasks-api audience...\n",
      "Created tasks-api client.\n"
     ]
    }
   ],
   "source": [
    "# Make sure we have a client with the right audience (tasks-api)\n",
    "# if we create a new one, let's delete it at the end\n",
    "CREATED_NEW_CLIENT = False\n",
    "\n",
    "if AUDIENCE == \"clients-api\":\n",
    "    admin = ClientsAdmin(\n",
    "        on_error=lambda e: print(f\"Error: {e}\"),\n",
    "        on_auth_error=lambda e: print(f\"Auth Error: {e}\"),\n",
    "        # on_auth_token=lambda token: print(f\"Auth Token: {token}\"),\n",
    "    )\n",
    "    admin.configure(BASE_URL, CLIENT_ID, CLIENT_SECRET)\n",
    "\n",
    "    print(\"Creating a new client with tasks-api audience...\")\n",
    "    client_create = ClientCreateRequest(\n",
    "        # client_id=CLIENT_ID,  # not these, they are existing (for clients-api)\n",
    "        # client_secret=CLIENT_SECRET,  # let's let the server generate them\n",
    "        audience=\"tasks-api\",\n",
    "        description=\"Client for tasks-api\",  # optional\n",
    "    )\n",
    "    client_info: ClientCreateResponse = admin.create_client(\n",
    "        client_data=client_create\n",
    "    )\n",
    "    TASKS_CLIENT_ID = client_info.client_id\n",
    "    TASKS_CLIENT_SECRET = client_info.client_secret\n",
    "    CREATED_NEW_CLIENT = True\n",
    "    print(\"Created tasks-api client.\")\n",
    "else:\n",
    "    TASKS_CLIENT_ID = CLIENT_ID\n",
    "    TASKS_CLIENT_SECRET = CLIENT_SECRET"
   ]
  },
  {
   "cell_type": "code",
   "execution_count": 3,
   "id": "d8e089b3",
   "metadata": {},
   "outputs": [
    {
     "name": "stdout",
     "output_type": "stream",
     "text": [
      "Authenticated as tasks-api client.\n"
     ]
    }
   ],
   "source": [
    "# Now initialize the TasksClient\n",
    "client = TasksClient()\n",
    "client.configure(\n",
    "    base_url=BASE_URL,\n",
    "    client_id=TASKS_CLIENT_ID,\n",
    "    client_secret=TASKS_CLIENT_SECRET,\n",
    "    on_auth_token=None,  # we could use a custom handler here\n",
    "    on_auth_error=None,  # and here\n",
    "    on_error=None,  # and here\n",
    ")\n",
    "print(\"Authenticated as tasks-api client.\")"
   ]
  },
  {
   "cell_type": "markdown",
   "id": "9562308e",
   "metadata": {},
   "source": [
    "## 🚫 Cancel any existing running tasks if any"
   ]
  },
  {
   "cell_type": "code",
   "execution_count": 4,
   "id": "9ed9175e",
   "metadata": {},
   "outputs": [
    {
     "name": "stdout",
     "output_type": "stream",
     "text": [
      "Current tasks: items=[] total=0 page=1 size=50 pages=0\n"
     ]
    }
   ],
   "source": [
    "current_tasks = client.list_tasks()\n",
    "print(f\"Current tasks: {current_tasks}\")\n",
    "for item in current_tasks.items:\n",
    "    if item.status in (\n",
    "        TaskStatus.RUNNING,\n",
    "        TaskStatus.PENDING,\n",
    "        TaskStatus.WAITING_FOR_INPUT,\n",
    "    ):\n",
    "        # Cancel the task if it's active (running, pending, or waiting for input)\n",
    "        print(f\"Cancelling task {item.id} with status {item.status}\")\n",
    "        client.cancel_task(item.id)"
   ]
  },
  {
   "cell_type": "markdown",
   "id": "953bbde0",
   "metadata": {},
   "source": [
    "## 📥 Submit a New Task"
   ]
  },
  {
   "cell_type": "code",
   "execution_count": 5,
   "id": "9e182a69",
   "metadata": {},
   "outputs": [
    {
     "name": "stdout",
     "output_type": "stream",
     "text": [
      "📦 Task triggered: 019642de84db07476957bad629d93bf4\n"
     ]
    }
   ],
   "source": [
    "# Upload a .waldiez flow\n",
    "FLOW_PATH = os.path.join(\".\", \"..\", \"dummy_with_input.waldiez\")\n",
    "with open(FLOW_PATH, \"rb\") as f:\n",
    "    file_data = f.read()\n",
    "\n",
    "task_create = TaskCreateRequest(\n",
    "    file_data=file_data,\n",
    "    file_name=FLOW_PATH.rsplit(\"/\", maxsplit=1)[-1],\n",
    "    input_timeout=60,\n",
    ")\n",
    "task = client.create_task(\n",
    "    task_data=task_create,\n",
    ")\n",
    "print(\"📦 Task triggered:\", task.id)"
   ]
  },
  {
   "cell_type": "markdown",
   "id": "5fa7d2ae",
   "metadata": {},
   "source": [
    "## 📡 Listen to Task Output"
   ]
  },
  {
   "cell_type": "code",
   "execution_count": null,
   "id": "696659de",
   "metadata": {},
   "outputs": [
    {
     "name": "stdout",
     "output_type": "stream",
     "text": [
      "📥 {\"type\":\"status\",\"timestamp\":1744878601497222,\"data\":{\"task_id\":\"019642de84db07476957bad629d93bf4\",\"status\":\"PENDING\",\"created_at\":\"2025-04-17T08:30:01.435\",\"updated_at\":\"2025-04-17T08:30:01.435\",\"results\":null,\"input_request_id\":null}}\n",
      "📥 {\"type\":\"print\",\"data\":\"Installing requirements: pyautogen[openai]==0.8.6\\n\",\"task_id\":\"019642de84db07476957bad629d93bf4\",\"timestamp\":\"1744878610769533\",\"id\":\"1744878610770-0\"}\n",
      "📥 {\"type\":\"print\",\"data\":\"Requirement already satisfied: pyautogen==0.8.6 in /home/user/.local/lib/python3.12/site-packages (from pyautogen[openai]==0.8.6) (0.8.6)\\n\",\"task_id\":\"019642de84db07476957bad629d93bf4\",\"timestamp\":\"1744878611554864\",\"id\":\"1744878611555-0\"}\n",
      "📥 {\"type\":\"print\",\"data\":\"Requirement already satisfied: anyio<5.0.0,>=3.0.0 in /home/user/.local/lib/python3.12/site-packages (from pyautogen==0.8.6->pyautogen[openai]==0.8.6) (4.9.0)\\n\",\"task_id\":\"019642de84db07476957bad629d93bf4\",\"timestamp\":\"1744878611570762\",\"id\":\"1744878611570-0\"}\n",
      "📥 {\"type\":\"print\",\"data\":\"Requirement already satisfied: asyncer==0.0.8 in /home/user/.local/lib/python3.12/site-packages (from pyautogen==0.8.6->pyautogen[openai]==0.8.6) (0.0.8)\\n\",\"task_id\":\"019642de84db07476957bad629d93bf4\",\"timestamp\":\"1744878611571332\",\"id\":\"1744878611571-0\"}\n",
      "📥 {\"type\":\"print\",\"data\":\"Requirement already satisfied: diskcache in /home/user/.local/lib/python3.12/site-packages (from pyautogen==0.8.6->pyautogen[openai]==0.8.6) (5.6.3)\\n\",\"task_id\":\"019642de84db07476957bad629d93bf4\",\"timestamp\":\"1744878611571993\",\"id\":\"1744878611572-0\"}\n",
      "📥 {\"type\":\"print\",\"data\":\"Requirement already satisfied: docker in /home/user/.local/lib/python3.12/site-packages (from pyautogen==0.8.6->pyautogen[openai]==0.8.6) (7.1.0)\\n\",\"task_id\":\"019642de84db07476957bad629d93bf4\",\"timestamp\":\"1744878611572532\",\"id\":\"1744878611572-1\"}\n",
      "📥 {\"type\":\"print\",\"data\":\"Requirement already satisfied: httpx<1,>=0.28.1 in /home/user/.local/lib/python3.12/site-packages (from pyautogen==0.8.6->pyautogen[openai]==0.8.6) (0.28.1)\\n\",\"task_id\":\"019642de84db07476957bad629d93bf4\",\"timestamp\":\"1744878611573086\",\"id\":\"1744878611573-0\"}\n",
      "📥 {\"type\":\"print\",\"data\":\"Requirement already satisfied: packaging in /home/user/.local/lib/python3.12/site-packages (from pyautogen==0.8.6->pyautogen[openai]==0.8.6) (24.2)\\n\",\"task_id\":\"019642de84db07476957bad629d93bf4\",\"timestamp\":\"1744878611573552\",\"id\":\"1744878611573-1\"}\n",
      "📥 {\"type\":\"print\",\"data\":\"Requirement already satisfied: pydantic<3,>=2.6.1 in /home/user/.local/lib/python3.12/site-packages (from pyautogen==0.8.6->pyautogen[openai]==0.8.6) (2.11.3)\\n\",\"task_id\":\"019642de84db07476957bad629d93bf4\",\"timestamp\":\"1744878611573990\",\"id\":\"1744878611574-0\"}\n",
      "📥 {\"type\":\"print\",\"data\":\"Requirement already satisfied: python-dotenv in /home/user/.local/lib/python3.12/site-packages (from pyautogen==0.8.6->pyautogen[openai]==0.8.6) (1.1.0)\\n\",\"task_id\":\"019642de84db07476957bad629d93bf4\",\"timestamp\":\"1744878611574484\",\"id\":\"1744878611574-1\"}\n",
      "📥 {\"type\":\"print\",\"data\":\"Requirement already satisfied: termcolor in /home/user/.local/lib/python3.12/site-packages (from pyautogen==0.8.6->pyautogen[openai]==0.8.6) (3.0.1)\\n\",\"task_id\":\"019642de84db07476957bad629d93bf4\",\"timestamp\":\"1744878611575081\",\"id\":\"1744878611575-0\"}\n",
      "📥 {\"type\":\"print\",\"data\":\"Requirement already satisfied: tiktoken in /home/user/.local/lib/python3.12/site-packages (from pyautogen==0.8.6->pyautogen[openai]==0.8.6) (0.9.0)\\n\",\"task_id\":\"019642de84db07476957bad629d93bf4\",\"timestamp\":\"1744878611575535\",\"id\":\"1744878611575-1\"}\n",
      "📥 {\"type\":\"print\",\"data\":\"Requirement already satisfied: openai>=1.66.2 in /home/user/.local/lib/python3.12/site-packages (from pyautogen[openai]==0.8.6) (1.75.0)\\n\",\"task_id\":\"019642de84db07476957bad629d93bf4\",\"timestamp\":\"1744878611576007\",\"id\":\"1744878611576-0\"}\n",
      "📥 {\"type\":\"print\",\"data\":\"Requirement already satisfied: idna>=2.8 in /home/user/.local/lib/python3.12/site-packages (from anyio<5.0.0,>=3.0.0->pyautogen==0.8.6->pyautogen[openai]==0.8.6) (3.10)\\n\",\"task_id\":\"019642de84db07476957bad629d93bf4\",\"timestamp\":\"1744878611578370\",\"id\":\"1744878611578-0\"}\n",
      "📥 {\"type\":\"print\",\"data\":\"Requirement already satisfied: sniffio>=1.1 in /home/user/.local/lib/python3.12/site-packages (from anyio<5.0.0,>=3.0.0->pyautogen==0.8.6->pyautogen[openai]==0.8.6) (1.3.1)\\n\",\"task_id\":\"019642de84db07476957bad629d93bf4\",\"timestamp\":\"1744878611578731\",\"id\":\"1744878611578-1\"}\n",
      "📥 {\"type\":\"print\",\"data\":\"Requirement already satisfied: typing_extensions>=4.5 in /home/user/.local/lib/python3.12/site-packages (from anyio<5.0.0,>=3.0.0->pyautogen==0.8.6->pyautogen[openai]==0.8.6) (4.13.2)\\n\",\"task_id\":\"019642de84db07476957bad629d93bf4\",\"timestamp\":\"1744878611579104\",\"id\":\"1744878611579-0\"}\n",
      "📥 {\"type\":\"print\",\"data\":\"Requirement already satisfied: certifi in /home/user/.local/lib/python3.12/site-packages (from httpx<1,>=0.28.1->pyautogen==0.8.6->pyautogen[openai]==0.8.6) (2025.1.31)\\n\",\"task_id\":\"019642de84db07476957bad629d93bf4\",\"timestamp\":\"1744878611580617\",\"id\":\"1744878611580-0\"}\n",
      "📥 {\"type\":\"print\",\"data\":\"Requirement already satisfied: httpcore==1.* in /home/user/.local/lib/python3.12/site-packages (from httpx<1,>=0.28.1->pyautogen==0.8.6->pyautogen[openai]==0.8.6) (1.0.8)\\n\",\"task_id\":\"019642de84db07476957bad629d93bf4\",\"timestamp\":\"1744878611581035\",\"id\":\"1744878611581-0\"}\n",
      "📥 {\"type\":\"print\",\"data\":\"Requirement already satisfied: h11<0.15,>=0.13 in /home/user/.local/lib/python3.12/site-packages (from httpcore==1.*->httpx<1,>=0.28.1->pyautogen==0.8.6->pyautogen[openai]==0.8.6) (0.14.0)\\n\",\"task_id\":\"019642de84db07476957bad629d93bf4\",\"timestamp\":\"1744878611582313\",\"id\":\"1744878611582-0\"}\n",
      "📥 {\"type\":\"print\",\"data\":\"Requirement already satisfied: distro<2,>=1.7.0 in /home/user/.local/lib/python3.12/site-packages (from openai>=1.66.2->pyautogen[openai]==0.8.6) (1.9.0)\\n\",\"task_id\":\"019642de84db07476957bad629d93bf4\",\"timestamp\":\"1744878611584243\",\"id\":\"1744878611584-0\"}\n",
      "📥 {\"type\":\"print\",\"data\":\"Requirement already satisfied: jiter<1,>=0.4.0 in /home/user/.local/lib/python3.12/site-packages (from openai>=1.66.2->pyautogen[openai]==0.8.6) (0.9.0)\\n\",\"task_id\":\"019642de84db07476957bad629d93bf4\",\"timestamp\":\"1744878611584687\",\"id\":\"1744878611584-1\"}\n",
      "📥 {\"type\":\"print\",\"data\":\"Requirement already satisfied: tqdm>4 in /home/user/.local/lib/python3.12/site-packages (from openai>=1.66.2->pyautogen[openai]==0.8.6) (4.67.1)\\n\",\"task_id\":\"019642de84db07476957bad629d93bf4\",\"timestamp\":\"1744878611585183\",\"id\":\"1744878611585-0\"}\n",
      "📥 {\"type\":\"print\",\"data\":\"Requirement already satisfied: annotated-types>=0.6.0 in /home/user/.local/lib/python3.12/site-packages (from pydantic<3,>=2.6.1->pyautogen==0.8.6->pyautogen[openai]==0.8.6) (0.7.0)\\n\",\"task_id\":\"019642de84db07476957bad629d93bf4\",\"timestamp\":\"1744878611587017\",\"id\":\"1744878611587-0\"}\n",
      "📥 {\"type\":\"print\",\"data\":\"Requirement already satisfied: pydantic-core==2.33.1 in /home/user/.local/lib/python3.12/site-packages (from pydantic<3,>=2.6.1->pyautogen==0.8.6->pyautogen[openai]==0.8.6) (2.33.1)\\n\",\"task_id\":\"019642de84db07476957bad629d93bf4\",\"timestamp\":\"1744878611587378\",\"id\":\"1744878611587-1\"}\n",
      "📥 {\"type\":\"print\",\"data\":\"Requirement already satisfied: typing-inspection>=0.4.0 in /home/user/.local/lib/python3.12/site-packages (from pydantic<3,>=2.6.1->pyautogen==0.8.6->pyautogen[openai]==0.8.6) (0.4.0)\\n\",\"task_id\":\"019642de84db07476957bad629d93bf4\",\"timestamp\":\"1744878611587830\",\"id\":\"1744878611587-2\"}\n",
      "📥 {\"type\":\"print\",\"data\":\"Requirement already satisfied: requests>=2.26.0 in /home/user/.local/lib/python3.12/site-packages (from docker->pyautogen==0.8.6->pyautogen[openai]==0.8.6) (2.32.3)\\n\",\"task_id\":\"019642de84db07476957bad629d93bf4\",\"timestamp\":\"1744878611590585\",\"id\":\"1744878611590-0\"}\n",
      "📥 {\"type\":\"print\",\"data\":\"Requirement already satisfied: urllib3>=1.26.0 in /home/user/.local/lib/python3.12/site-packages (from docker->pyautogen==0.8.6->pyautogen[openai]==0.8.6) (2.4.0)\\n\",\"task_id\":\"019642de84db07476957bad629d93bf4\",\"timestamp\":\"1744878611590940\",\"id\":\"1744878611591-0\"}\n",
      "📥 {\"type\":\"print\",\"data\":\"Requirement already satisfied: regex>=2022.1.18 in /home/user/.local/lib/python3.12/site-packages (from tiktoken->pyautogen==0.8.6->pyautogen[openai]==0.8.6) (2024.11.6)\\n\",\"task_id\":\"019642de84db07476957bad629d93bf4\",\"timestamp\":\"1744878611593672\",\"id\":\"1744878611593-0\"}\n",
      "📥 {\"type\":\"print\",\"data\":\"Requirement already satisfied: charset-normalizer<4,>=2 in /home/user/.local/lib/python3.12/site-packages (from requests>=2.26.0->docker->pyautogen==0.8.6->pyautogen[openai]==0.8.6) (3.4.1)\\n\",\"task_id\":\"019642de84db07476957bad629d93bf4\",\"timestamp\":\"1744878611598621\",\"id\":\"1744878611598-0\"}\n",
      "📥 {\"type\":\"print\",\"data\":\"Requirements installed.\\nNOTE: If new packages were added and you are using Jupyter, you might need to restart the kernel.\\n\",\"task_id\":\"019642de84db07476957bad629d93bf4\",\"timestamp\":\"1744878612099959\",\"id\":\"1744878612100-0\"}\n",
      "📥 {\"type\":\"print\",\"data\":\"<Waldiez> - Starting workflow...\\n\",\"task_id\":\"019642de84db07476957bad629d93bf4\",\"timestamp\":\"1744878612135204\",\"id\":\"1744878612135-0\"}\n",
      "📥 {\"type\":\"input_request\",\"data\":\">\",\"password\":\"False\",\"request_id\":\"4f7e210cf20a4284af73fa29bf624fc3\",\"task_id\":\"019642de84db07476957bad629d93bf4\",\"timestamp\":\"1744878612145187\",\"id\":\"1744878612145-0\"}\n",
      "📥 {\"type\":\"print\",\"data\":\"Installing requirements: pyautogen[openai]==0.8.6\\n\",\"task_id\":\"019642de84db07476957bad629d93bf4\",\"timestamp\":\"1744878610769533\",\"id\":\"1744878610770-0\"}\n",
      "📥 {\"type\":\"print\",\"data\":\"Requirement already satisfied: pyautogen==0.8.6 in /home/user/.local/lib/python3.12/site-packages (from pyautogen[openai]==0.8.6) (0.8.6)\\n\",\"task_id\":\"019642de84db07476957bad629d93bf4\",\"timestamp\":\"1744878611554864\",\"id\":\"1744878611555-0\"}\n",
      "📥 {\"type\":\"print\",\"data\":\"Requirement already satisfied: anyio<5.0.0,>=3.0.0 in /home/user/.local/lib/python3.12/site-packages (from pyautogen==0.8.6->pyautogen[openai]==0.8.6) (4.9.0)\\n\",\"task_id\":\"019642de84db07476957bad629d93bf4\",\"timestamp\":\"1744878611570762\",\"id\":\"1744878611570-0\"}\n",
      "📥 {\"type\":\"print\",\"data\":\"Requirement already satisfied: asyncer==0.0.8 in /home/user/.local/lib/python3.12/site-packages (from pyautogen==0.8.6->pyautogen[openai]==0.8.6) (0.0.8)\\n\",\"task_id\":\"019642de84db07476957bad629d93bf4\",\"timestamp\":\"1744878611571332\",\"id\":\"1744878611571-0\"}\n",
      "📥 {\"type\":\"print\",\"data\":\"Requirement already satisfied: diskcache in /home/user/.local/lib/python3.12/site-packages (from pyautogen==0.8.6->pyautogen[openai]==0.8.6) (5.6.3)\\n\",\"task_id\":\"019642de84db07476957bad629d93bf4\",\"timestamp\":\"1744878611571993\",\"id\":\"1744878611572-0\"}\n",
      "📥 {\"type\":\"print\",\"data\":\"Requirement already satisfied: docker in /home/user/.local/lib/python3.12/site-packages (from pyautogen==0.8.6->pyautogen[openai]==0.8.6) (7.1.0)\\n\",\"task_id\":\"019642de84db07476957bad629d93bf4\",\"timestamp\":\"1744878611572532\",\"id\":\"1744878611572-1\"}\n",
      "📥 {\"type\":\"print\",\"data\":\"Requirement already satisfied: httpx<1,>=0.28.1 in /home/user/.local/lib/python3.12/site-packages (from pyautogen==0.8.6->pyautogen[openai]==0.8.6) (0.28.1)\\n\",\"task_id\":\"019642de84db07476957bad629d93bf4\",\"timestamp\":\"1744878611573086\",\"id\":\"1744878611573-0\"}\n",
      "📥 {\"type\":\"print\",\"data\":\"Requirement already satisfied: packaging in /home/user/.local/lib/python3.12/site-packages (from pyautogen==0.8.6->pyautogen[openai]==0.8.6) (24.2)\\n\",\"task_id\":\"019642de84db07476957bad629d93bf4\",\"timestamp\":\"1744878611573552\",\"id\":\"1744878611573-1\"}\n",
      "📥 {\"type\":\"print\",\"data\":\"Requirement already satisfied: pydantic<3,>=2.6.1 in /home/user/.local/lib/python3.12/site-packages (from pyautogen==0.8.6->pyautogen[openai]==0.8.6) (2.11.3)\\n\",\"task_id\":\"019642de84db07476957bad629d93bf4\",\"timestamp\":\"1744878611573990\",\"id\":\"1744878611574-0\"}\n",
      "📥 {\"type\":\"print\",\"data\":\"Requirement already satisfied: python-dotenv in /home/user/.local/lib/python3.12/site-packages (from pyautogen==0.8.6->pyautogen[openai]==0.8.6) (1.1.0)\\n\",\"task_id\":\"019642de84db07476957bad629d93bf4\",\"timestamp\":\"1744878611574484\",\"id\":\"1744878611574-1\"}\n",
      "📥 {\"type\":\"print\",\"data\":\"Requirement already satisfied: termcolor in /home/user/.local/lib/python3.12/site-packages (from pyautogen==0.8.6->pyautogen[openai]==0.8.6) (3.0.1)\\n\",\"task_id\":\"019642de84db07476957bad629d93bf4\",\"timestamp\":\"1744878611575081\",\"id\":\"1744878611575-0\"}\n",
      "📥 {\"type\":\"print\",\"data\":\"Requirement already satisfied: tiktoken in /home/user/.local/lib/python3.12/site-packages (from pyautogen==0.8.6->pyautogen[openai]==0.8.6) (0.9.0)\\n\",\"task_id\":\"019642de84db07476957bad629d93bf4\",\"timestamp\":\"1744878611575535\",\"id\":\"1744878611575-1\"}\n",
      "📥 {\"type\":\"print\",\"data\":\"Requirement already satisfied: openai>=1.66.2 in /home/user/.local/lib/python3.12/site-packages (from pyautogen[openai]==0.8.6) (1.75.0)\\n\",\"task_id\":\"019642de84db07476957bad629d93bf4\",\"timestamp\":\"1744878611576007\",\"id\":\"1744878611576-0\"}\n",
      "📥 {\"type\":\"print\",\"data\":\"Requirement already satisfied: idna>=2.8 in /home/user/.local/lib/python3.12/site-packages (from anyio<5.0.0,>=3.0.0->pyautogen==0.8.6->pyautogen[openai]==0.8.6) (3.10)\\n\",\"task_id\":\"019642de84db07476957bad629d93bf4\",\"timestamp\":\"1744878611578370\",\"id\":\"1744878611578-0\"}\n",
      "📥 {\"type\":\"print\",\"data\":\"Requirement already satisfied: sniffio>=1.1 in /home/user/.local/lib/python3.12/site-packages (from anyio<5.0.0,>=3.0.0->pyautogen==0.8.6->pyautogen[openai]==0.8.6) (1.3.1)\\n\",\"task_id\":\"019642de84db07476957bad629d93bf4\",\"timestamp\":\"1744878611578731\",\"id\":\"1744878611578-1\"}\n",
      "📥 {\"type\":\"print\",\"data\":\"Requirement already satisfied: typing_extensions>=4.5 in /home/user/.local/lib/python3.12/site-packages (from anyio<5.0.0,>=3.0.0->pyautogen==0.8.6->pyautogen[openai]==0.8.6) (4.13.2)\\n\",\"task_id\":\"019642de84db07476957bad629d93bf4\",\"timestamp\":\"1744878611579104\",\"id\":\"1744878611579-0\"}\n",
      "📥 {\"type\":\"print\",\"data\":\"Requirement already satisfied: certifi in /home/user/.local/lib/python3.12/site-packages (from httpx<1,>=0.28.1->pyautogen==0.8.6->pyautogen[openai]==0.8.6) (2025.1.31)\\n\",\"task_id\":\"019642de84db07476957bad629d93bf4\",\"timestamp\":\"1744878611580617\",\"id\":\"1744878611580-0\"}\n",
      "📥 {\"type\":\"print\",\"data\":\"Requirement already satisfied: httpcore==1.* in /home/user/.local/lib/python3.12/site-packages (from httpx<1,>=0.28.1->pyautogen==0.8.6->pyautogen[openai]==0.8.6) (1.0.8)\\n\",\"task_id\":\"019642de84db07476957bad629d93bf4\",\"timestamp\":\"1744878611581035\",\"id\":\"1744878611581-0\"}\n",
      "📥 {\"type\":\"print\",\"data\":\"Requirement already satisfied: h11<0.15,>=0.13 in /home/user/.local/lib/python3.12/site-packages (from httpcore==1.*->httpx<1,>=0.28.1->pyautogen==0.8.6->pyautogen[openai]==0.8.6) (0.14.0)\\n\",\"task_id\":\"019642de84db07476957bad629d93bf4\",\"timestamp\":\"1744878611582313\",\"id\":\"1744878611582-0\"}\n",
      "📥 {\"type\":\"print\",\"data\":\"Requirement already satisfied: distro<2,>=1.7.0 in /home/user/.local/lib/python3.12/site-packages (from openai>=1.66.2->pyautogen[openai]==0.8.6) (1.9.0)\\n\",\"task_id\":\"019642de84db07476957bad629d93bf4\",\"timestamp\":\"1744878611584243\",\"id\":\"1744878611584-0\"}\n",
      "📥 {\"type\":\"print\",\"data\":\"Requirement already satisfied: jiter<1,>=0.4.0 in /home/user/.local/lib/python3.12/site-packages (from openai>=1.66.2->pyautogen[openai]==0.8.6) (0.9.0)\\n\",\"task_id\":\"019642de84db07476957bad629d93bf4\",\"timestamp\":\"1744878611584687\",\"id\":\"1744878611584-1\"}\n",
      "📥 {\"type\":\"print\",\"data\":\"Requirement already satisfied: tqdm>4 in /home/user/.local/lib/python3.12/site-packages (from openai>=1.66.2->pyautogen[openai]==0.8.6) (4.67.1)\\n\",\"task_id\":\"019642de84db07476957bad629d93bf4\",\"timestamp\":\"1744878611585183\",\"id\":\"1744878611585-0\"}\n",
      "📥 {\"type\":\"print\",\"data\":\"Requirement already satisfied: annotated-types>=0.6.0 in /home/user/.local/lib/python3.12/site-packages (from pydantic<3,>=2.6.1->pyautogen==0.8.6->pyautogen[openai]==0.8.6) (0.7.0)\\n\",\"task_id\":\"019642de84db07476957bad629d93bf4\",\"timestamp\":\"1744878611587017\",\"id\":\"1744878611587-0\"}\n",
      "📥 {\"type\":\"print\",\"data\":\"Requirement already satisfied: pydantic-core==2.33.1 in /home/user/.local/lib/python3.12/site-packages (from pydantic<3,>=2.6.1->pyautogen==0.8.6->pyautogen[openai]==0.8.6) (2.33.1)\\n\",\"task_id\":\"019642de84db07476957bad629d93bf4\",\"timestamp\":\"1744878611587378\",\"id\":\"1744878611587-1\"}\n",
      "📥 {\"type\":\"print\",\"data\":\"Requirement already satisfied: typing-inspection>=0.4.0 in /home/user/.local/lib/python3.12/site-packages (from pydantic<3,>=2.6.1->pyautogen==0.8.6->pyautogen[openai]==0.8.6) (0.4.0)\\n\",\"task_id\":\"019642de84db07476957bad629d93bf4\",\"timestamp\":\"1744878611587830\",\"id\":\"1744878611587-2\"}\n",
      "📥 {\"type\":\"print\",\"data\":\"Requirement already satisfied: requests>=2.26.0 in /home/user/.local/lib/python3.12/site-packages (from docker->pyautogen==0.8.6->pyautogen[openai]==0.8.6) (2.32.3)\\n\",\"task_id\":\"019642de84db07476957bad629d93bf4\",\"timestamp\":\"1744878611590585\",\"id\":\"1744878611590-0\"}\n",
      "📥 {\"type\":\"print\",\"data\":\"Requirement already satisfied: urllib3>=1.26.0 in /home/user/.local/lib/python3.12/site-packages (from docker->pyautogen==0.8.6->pyautogen[openai]==0.8.6) (2.4.0)\\n\",\"task_id\":\"019642de84db07476957bad629d93bf4\",\"timestamp\":\"1744878611590940\",\"id\":\"1744878611591-0\"}\n",
      "📥 {\"type\":\"print\",\"data\":\"Requirement already satisfied: regex>=2022.1.18 in /home/user/.local/lib/python3.12/site-packages (from tiktoken->pyautogen==0.8.6->pyautogen[openai]==0.8.6) (2024.11.6)\\n\",\"task_id\":\"019642de84db07476957bad629d93bf4\",\"timestamp\":\"1744878611593672\",\"id\":\"1744878611593-0\"}\n",
      "📥 {\"type\":\"print\",\"data\":\"Requirement already satisfied: charset-normalizer<4,>=2 in /home/user/.local/lib/python3.12/site-packages (from requests>=2.26.0->docker->pyautogen==0.8.6->pyautogen[openai]==0.8.6) (3.4.1)\\n\",\"task_id\":\"019642de84db07476957bad629d93bf4\",\"timestamp\":\"1744878611598621\",\"id\":\"1744878611598-0\"}\n",
      "📥 {\"type\":\"print\",\"data\":\"Requirements installed.\\nNOTE: If new packages were added and you are using Jupyter, you might need to restart the kernel.\\n\",\"task_id\":\"019642de84db07476957bad629d93bf4\",\"timestamp\":\"1744878612099959\",\"id\":\"1744878612100-0\"}\n",
      "📥 {\"type\":\"print\",\"data\":\"<Waldiez> - Starting workflow...\\n\",\"task_id\":\"019642de84db07476957bad629d93bf4\",\"timestamp\":\"1744878612135204\",\"id\":\"1744878612135-0\"}\n",
      "📥 {\"type\":\"input_request\",\"data\":\">\",\"password\":\"False\",\"request_id\":\"4f7e210cf20a4284af73fa29bf624fc3\",\"task_id\":\"019642de84db07476957bad629d93bf4\",\"timestamp\":\"1744878612145187\",\"id\":\"1744878612145-0\"}\n",
      "📥 {\"request_id\":\"4f7e210cf20a4284af73fa29bf624fc3\",\"type\":\"input_response\",\"data\":\"Hello world!\",\"task_id\":\"019642de84db07476957bad629d93bf4\",\"timestamp\":\"1744878613708989\",\"id\":\"1744878613709-0\"}\n",
      "📥 {\"type\":\"print\",\"data\":\"{\\\"type\\\":\\\"text\\\",\\\"content\\\":{\\\"uuid\\\":\\\"8f77767f-a82e-4c25-9783-fa12f386ff6c\\\",\\\"content\\\":\\\"Hello world!\\\",\\\"sender\\\":\\\"user1\\\",\\\"recipient\\\":\\\"assistant_1a\\\"}}\",\"task_id\":\"019642de84db07476957bad629d93bf4\",\"timestamp\":\"1744878613713033\",\"id\":\"1744878613713-0\"}\n",
      "📥 {\"type\":\"print\",\"data\":\"{\\\"type\\\":\\\"text\\\",\\\"content\\\":{\\\"uuid\\\":\\\"8c8691be-ae54-453d-ac79-e50b8311485d\\\",\\\"content\\\":\\\"Hello from Assistant 1A\\\",\\\"sender\\\":\\\"assistant_1a\\\",\\\"recipient\\\":\\\"user1\\\"}}\",\"task_id\":\"019642de84db07476957bad629d93bf4\",\"timestamp\":\"1744878613721054\",\"id\":\"1744878613721-0\"}\n",
      "📥 {\"type\":\"input_request\",\"data\":\"Replying as user1. Provide feedback to assistant_1a. Press enter to skip and use auto-reply, or type 'exit' to end the conversation: \",\"password\":\"False\",\"request_id\":\"07c0ae47c3964f49938cd209bb69505f\",\"task_id\":\"019642de84db07476957bad629d93bf4\",\"timestamp\":\"1744878613721536\",\"id\":\"1744878613721-1\"}\n",
      "📥 {\"type\":\"print\",\"data\":\"Installing requirements: pyautogen[openai]==0.8.6\\n\",\"task_id\":\"019642de84db07476957bad629d93bf4\",\"timestamp\":\"1744878610769533\",\"id\":\"1744878610770-0\"}\n",
      "📥 {\"type\":\"print\",\"data\":\"Requirement already satisfied: pyautogen==0.8.6 in /home/user/.local/lib/python3.12/site-packages (from pyautogen[openai]==0.8.6) (0.8.6)\\n\",\"task_id\":\"019642de84db07476957bad629d93bf4\",\"timestamp\":\"1744878611554864\",\"id\":\"1744878611555-0\"}\n",
      "📥 {\"type\":\"print\",\"data\":\"Requirement already satisfied: anyio<5.0.0,>=3.0.0 in /home/user/.local/lib/python3.12/site-packages (from pyautogen==0.8.6->pyautogen[openai]==0.8.6) (4.9.0)\\n\",\"task_id\":\"019642de84db07476957bad629d93bf4\",\"timestamp\":\"1744878611570762\",\"id\":\"1744878611570-0\"}\n",
      "📥 {\"type\":\"print\",\"data\":\"Requirement already satisfied: asyncer==0.0.8 in /home/user/.local/lib/python3.12/site-packages (from pyautogen==0.8.6->pyautogen[openai]==0.8.6) (0.0.8)\\n\",\"task_id\":\"019642de84db07476957bad629d93bf4\",\"timestamp\":\"1744878611571332\",\"id\":\"1744878611571-0\"}\n",
      "📥 {\"type\":\"print\",\"data\":\"Requirement already satisfied: diskcache in /home/user/.local/lib/python3.12/site-packages (from pyautogen==0.8.6->pyautogen[openai]==0.8.6) (5.6.3)\\n\",\"task_id\":\"019642de84db07476957bad629d93bf4\",\"timestamp\":\"1744878611571993\",\"id\":\"1744878611572-0\"}\n",
      "📥 {\"type\":\"print\",\"data\":\"Requirement already satisfied: docker in /home/user/.local/lib/python3.12/site-packages (from pyautogen==0.8.6->pyautogen[openai]==0.8.6) (7.1.0)\\n\",\"task_id\":\"019642de84db07476957bad629d93bf4\",\"timestamp\":\"1744878611572532\",\"id\":\"1744878611572-1\"}\n",
      "📥 {\"type\":\"print\",\"data\":\"Requirement already satisfied: httpx<1,>=0.28.1 in /home/user/.local/lib/python3.12/site-packages (from pyautogen==0.8.6->pyautogen[openai]==0.8.6) (0.28.1)\\n\",\"task_id\":\"019642de84db07476957bad629d93bf4\",\"timestamp\":\"1744878611573086\",\"id\":\"1744878611573-0\"}\n",
      "📥 {\"type\":\"print\",\"data\":\"Requirement already satisfied: packaging in /home/user/.local/lib/python3.12/site-packages (from pyautogen==0.8.6->pyautogen[openai]==0.8.6) (24.2)\\n\",\"task_id\":\"019642de84db07476957bad629d93bf4\",\"timestamp\":\"1744878611573552\",\"id\":\"1744878611573-1\"}\n",
      "📥 {\"type\":\"print\",\"data\":\"Requirement already satisfied: pydantic<3,>=2.6.1 in /home/user/.local/lib/python3.12/site-packages (from pyautogen==0.8.6->pyautogen[openai]==0.8.6) (2.11.3)\\n\",\"task_id\":\"019642de84db07476957bad629d93bf4\",\"timestamp\":\"1744878611573990\",\"id\":\"1744878611574-0\"}\n",
      "📥 {\"type\":\"print\",\"data\":\"Requirement already satisfied: python-dotenv in /home/user/.local/lib/python3.12/site-packages (from pyautogen==0.8.6->pyautogen[openai]==0.8.6) (1.1.0)\\n\",\"task_id\":\"019642de84db07476957bad629d93bf4\",\"timestamp\":\"1744878611574484\",\"id\":\"1744878611574-1\"}\n",
      "📥 {\"type\":\"print\",\"data\":\"Requirement already satisfied: termcolor in /home/user/.local/lib/python3.12/site-packages (from pyautogen==0.8.6->pyautogen[openai]==0.8.6) (3.0.1)\\n\",\"task_id\":\"019642de84db07476957bad629d93bf4\",\"timestamp\":\"1744878611575081\",\"id\":\"1744878611575-0\"}\n",
      "📥 {\"type\":\"print\",\"data\":\"Requirement already satisfied: tiktoken in /home/user/.local/lib/python3.12/site-packages (from pyautogen==0.8.6->pyautogen[openai]==0.8.6) (0.9.0)\\n\",\"task_id\":\"019642de84db07476957bad629d93bf4\",\"timestamp\":\"1744878611575535\",\"id\":\"1744878611575-1\"}\n",
      "📥 {\"type\":\"print\",\"data\":\"Requirement already satisfied: openai>=1.66.2 in /home/user/.local/lib/python3.12/site-packages (from pyautogen[openai]==0.8.6) (1.75.0)\\n\",\"task_id\":\"019642de84db07476957bad629d93bf4\",\"timestamp\":\"1744878611576007\",\"id\":\"1744878611576-0\"}\n",
      "📥 {\"type\":\"print\",\"data\":\"Requirement already satisfied: idna>=2.8 in /home/user/.local/lib/python3.12/site-packages (from anyio<5.0.0,>=3.0.0->pyautogen==0.8.6->pyautogen[openai]==0.8.6) (3.10)\\n\",\"task_id\":\"019642de84db07476957bad629d93bf4\",\"timestamp\":\"1744878611578370\",\"id\":\"1744878611578-0\"}\n",
      "📥 {\"type\":\"print\",\"data\":\"Requirement already satisfied: sniffio>=1.1 in /home/user/.local/lib/python3.12/site-packages (from anyio<5.0.0,>=3.0.0->pyautogen==0.8.6->pyautogen[openai]==0.8.6) (1.3.1)\\n\",\"task_id\":\"019642de84db07476957bad629d93bf4\",\"timestamp\":\"1744878611578731\",\"id\":\"1744878611578-1\"}\n",
      "📥 {\"type\":\"print\",\"data\":\"Requirement already satisfied: typing_extensions>=4.5 in /home/user/.local/lib/python3.12/site-packages (from anyio<5.0.0,>=3.0.0->pyautogen==0.8.6->pyautogen[openai]==0.8.6) (4.13.2)\\n\",\"task_id\":\"019642de84db07476957bad629d93bf4\",\"timestamp\":\"1744878611579104\",\"id\":\"1744878611579-0\"}\n",
      "📥 {\"type\":\"print\",\"data\":\"Requirement already satisfied: certifi in /home/user/.local/lib/python3.12/site-packages (from httpx<1,>=0.28.1->pyautogen==0.8.6->pyautogen[openai]==0.8.6) (2025.1.31)\\n\",\"task_id\":\"019642de84db07476957bad629d93bf4\",\"timestamp\":\"1744878611580617\",\"id\":\"1744878611580-0\"}\n",
      "📥 {\"type\":\"print\",\"data\":\"Requirement already satisfied: httpcore==1.* in /home/user/.local/lib/python3.12/site-packages (from httpx<1,>=0.28.1->pyautogen==0.8.6->pyautogen[openai]==0.8.6) (1.0.8)\\n\",\"task_id\":\"019642de84db07476957bad629d93bf4\",\"timestamp\":\"1744878611581035\",\"id\":\"1744878611581-0\"}\n",
      "📥 {\"type\":\"print\",\"data\":\"Requirement already satisfied: h11<0.15,>=0.13 in /home/user/.local/lib/python3.12/site-packages (from httpcore==1.*->httpx<1,>=0.28.1->pyautogen==0.8.6->pyautogen[openai]==0.8.6) (0.14.0)\\n\",\"task_id\":\"019642de84db07476957bad629d93bf4\",\"timestamp\":\"1744878611582313\",\"id\":\"1744878611582-0\"}\n",
      "📥 {\"type\":\"print\",\"data\":\"Requirement already satisfied: distro<2,>=1.7.0 in /home/user/.local/lib/python3.12/site-packages (from openai>=1.66.2->pyautogen[openai]==0.8.6) (1.9.0)\\n\",\"task_id\":\"019642de84db07476957bad629d93bf4\",\"timestamp\":\"1744878611584243\",\"id\":\"1744878611584-0\"}\n",
      "📥 {\"type\":\"print\",\"data\":\"Requirement already satisfied: jiter<1,>=0.4.0 in /home/user/.local/lib/python3.12/site-packages (from openai>=1.66.2->pyautogen[openai]==0.8.6) (0.9.0)\\n\",\"task_id\":\"019642de84db07476957bad629d93bf4\",\"timestamp\":\"1744878611584687\",\"id\":\"1744878611584-1\"}\n",
      "📥 {\"type\":\"print\",\"data\":\"Requirement already satisfied: tqdm>4 in /home/user/.local/lib/python3.12/site-packages (from openai>=1.66.2->pyautogen[openai]==0.8.6) (4.67.1)\\n\",\"task_id\":\"019642de84db07476957bad629d93bf4\",\"timestamp\":\"1744878611585183\",\"id\":\"1744878611585-0\"}\n",
      "📥 {\"type\":\"print\",\"data\":\"Requirement already satisfied: annotated-types>=0.6.0 in /home/user/.local/lib/python3.12/site-packages (from pydantic<3,>=2.6.1->pyautogen==0.8.6->pyautogen[openai]==0.8.6) (0.7.0)\\n\",\"task_id\":\"019642de84db07476957bad629d93bf4\",\"timestamp\":\"1744878611587017\",\"id\":\"1744878611587-0\"}\n",
      "📥 {\"type\":\"print\",\"data\":\"Requirement already satisfied: pydantic-core==2.33.1 in /home/user/.local/lib/python3.12/site-packages (from pydantic<3,>=2.6.1->pyautogen==0.8.6->pyautogen[openai]==0.8.6) (2.33.1)\\n\",\"task_id\":\"019642de84db07476957bad629d93bf4\",\"timestamp\":\"1744878611587378\",\"id\":\"1744878611587-1\"}\n",
      "📥 {\"type\":\"print\",\"data\":\"Requirement already satisfied: typing-inspection>=0.4.0 in /home/user/.local/lib/python3.12/site-packages (from pydantic<3,>=2.6.1->pyautogen==0.8.6->pyautogen[openai]==0.8.6) (0.4.0)\\n\",\"task_id\":\"019642de84db07476957bad629d93bf4\",\"timestamp\":\"1744878611587830\",\"id\":\"1744878611587-2\"}\n",
      "📥 {\"type\":\"print\",\"data\":\"Requirement already satisfied: requests>=2.26.0 in /home/user/.local/lib/python3.12/site-packages (from docker->pyautogen==0.8.6->pyautogen[openai]==0.8.6) (2.32.3)\\n\",\"task_id\":\"019642de84db07476957bad629d93bf4\",\"timestamp\":\"1744878611590585\",\"id\":\"1744878611590-0\"}\n",
      "📥 {\"type\":\"print\",\"data\":\"Requirement already satisfied: urllib3>=1.26.0 in /home/user/.local/lib/python3.12/site-packages (from docker->pyautogen==0.8.6->pyautogen[openai]==0.8.6) (2.4.0)\\n\",\"task_id\":\"019642de84db07476957bad629d93bf4\",\"timestamp\":\"1744878611590940\",\"id\":\"1744878611591-0\"}\n",
      "📥 {\"type\":\"print\",\"data\":\"Requirement already satisfied: regex>=2022.1.18 in /home/user/.local/lib/python3.12/site-packages (from tiktoken->pyautogen==0.8.6->pyautogen[openai]==0.8.6) (2024.11.6)\\n\",\"task_id\":\"019642de84db07476957bad629d93bf4\",\"timestamp\":\"1744878611593672\",\"id\":\"1744878611593-0\"}\n",
      "📥 {\"type\":\"print\",\"data\":\"Requirement already satisfied: charset-normalizer<4,>=2 in /home/user/.local/lib/python3.12/site-packages (from requests>=2.26.0->docker->pyautogen==0.8.6->pyautogen[openai]==0.8.6) (3.4.1)\\n\",\"task_id\":\"019642de84db07476957bad629d93bf4\",\"timestamp\":\"1744878611598621\",\"id\":\"1744878611598-0\"}\n",
      "📥 {\"type\":\"print\",\"data\":\"Requirements installed.\\nNOTE: If new packages were added and you are using Jupyter, you might need to restart the kernel.\\n\",\"task_id\":\"019642de84db07476957bad629d93bf4\",\"timestamp\":\"1744878612099959\",\"id\":\"1744878612100-0\"}\n",
      "📥 {\"type\":\"print\",\"data\":\"<Waldiez> - Starting workflow...\\n\",\"task_id\":\"019642de84db07476957bad629d93bf4\",\"timestamp\":\"1744878612135204\",\"id\":\"1744878612135-0\"}\n",
      "📥 {\"type\":\"input_request\",\"data\":\">\",\"password\":\"False\",\"request_id\":\"4f7e210cf20a4284af73fa29bf624fc3\",\"task_id\":\"019642de84db07476957bad629d93bf4\",\"timestamp\":\"1744878612145187\",\"id\":\"1744878612145-0\"}\n",
      "📥 {\"request_id\":\"4f7e210cf20a4284af73fa29bf624fc3\",\"type\":\"input_response\",\"data\":\"Hello world!\",\"task_id\":\"019642de84db07476957bad629d93bf4\",\"timestamp\":\"1744878613708989\",\"id\":\"1744878613709-0\"}\n",
      "📥 {\"type\":\"print\",\"data\":\"{\\\"type\\\":\\\"text\\\",\\\"content\\\":{\\\"uuid\\\":\\\"8f77767f-a82e-4c25-9783-fa12f386ff6c\\\",\\\"content\\\":\\\"Hello world!\\\",\\\"sender\\\":\\\"user1\\\",\\\"recipient\\\":\\\"assistant_1a\\\"}}\",\"task_id\":\"019642de84db07476957bad629d93bf4\",\"timestamp\":\"1744878613713033\",\"id\":\"1744878613713-0\"}\n",
      "📥 {\"type\":\"print\",\"data\":\"{\\\"type\\\":\\\"text\\\",\\\"content\\\":{\\\"uuid\\\":\\\"8c8691be-ae54-453d-ac79-e50b8311485d\\\",\\\"content\\\":\\\"Hello from Assistant 1A\\\",\\\"sender\\\":\\\"assistant_1a\\\",\\\"recipient\\\":\\\"user1\\\"}}\",\"task_id\":\"019642de84db07476957bad629d93bf4\",\"timestamp\":\"1744878613721054\",\"id\":\"1744878613721-0\"}\n",
      "📥 {\"type\":\"input_request\",\"data\":\"Replying as user1. Provide feedback to assistant_1a. Press enter to skip and use auto-reply, or type 'exit' to end the conversation: \",\"password\":\"False\",\"request_id\":\"07c0ae47c3964f49938cd209bb69505f\",\"task_id\":\"019642de84db07476957bad629d93bf4\",\"timestamp\":\"1744878613721536\",\"id\":\"1744878613721-1\"}\n",
      "📥 {\"request_id\":\"07c0ae47c3964f49938cd209bb69505f\",\"type\":\"input_response\",\"data\":\"Hello world!\",\"task_id\":\"019642de84db07476957bad629d93bf4\",\"timestamp\":\"1744878615805819\",\"id\":\"1744878615805-0\"}\n",
      "📥 {\"type\":\"print\",\"data\":\"{\\\"type\\\":\\\"text\\\",\\\"content\\\":{\\\"uuid\\\":\\\"9156a71b-ebf9-47d9-bf99-2fa7c5a645ac\\\",\\\"content\\\":\\\"Hello world!\\\",\\\"sender\\\":\\\"user1\\\",\\\"recipient\\\":\\\"assistant_1a\\\"}}\",\"task_id\":\"019642de84db07476957bad629d93bf4\",\"timestamp\":\"1744878615811415\",\"id\":\"1744878615811-0\"}\n",
      "📥 {\"type\":\"print\",\"data\":\"{\\\"type\\\":\\\"text\\\",\\\"content\\\":{\\\"uuid\\\":\\\"27843a33-34d2-4dcb-89f6-81b835230e46\\\",\\\"content\\\":\\\"Hello from Assistant 1A\\\",\\\"sender\\\":\\\"assistant_1a\\\",\\\"recipient\\\":\\\"user1\\\"}}\",\"task_id\":\"019642de84db07476957bad629d93bf4\",\"timestamp\":\"1744878615819496\",\"id\":\"1744878615819-0\"}\n",
      "📥 {\"type\":\"print\",\"data\":\"{\\\"type\\\":\\\"termination\\\",\\\"content\\\":{\\\"uuid\\\":\\\"c514d10b-6883-40aa-ac47-83e14b1752d3\\\",\\\"termination_reason\\\":\\\"Maximum turns (2) reached\\\"}}\",\"task_id\":\"019642de84db07476957bad629d93bf4\",\"timestamp\":\"1744878615820131\",\"id\":\"1744878615820-0\"}\n",
      "📥 {\"type\":\"print\",\"data\":\"<Waldiez> - Workflow finished\\n\",\"task_id\":\"019642de84db07476957bad629d93bf4\",\"timestamp\":\"1744878615823488\",\"id\":\"1744878615823-0\"}\n",
      "📥 {\"type\":\"print\",\"data\":\"Generating mermaid sequence diagram...\\n\",\"task_id\":\"019642de84db07476957bad629d93bf4\",\"timestamp\":\"1744878615823991\",\"id\":\"1744878615824-0\"}\n",
      "📥 {\"type\":\"print\",\"data\":\"Copying the results to /tmp/tmp_fewsaoj/019642de83369649c2862c6307b74986/019642de84db07476957bad629d93bf4/app/waldiez_out/20250417083015\\n\",\"task_id\":\"019642de84db07476957bad629d93bf4\",\"timestamp\":\"1744878615828013\",\"id\":\"1744878615828-0\"}\n"
     ]
    }
   ],
   "source": [
    "from queue import Queue\n",
    "\n",
    "queue: Queue[str] = Queue()\n",
    "\n",
    "\n",
    "def on_message(msg: str):\n",
    "    print(\"📥\", msg)\n",
    "    queue.put(msg)\n",
    "\n",
    "\n",
    "def on_error(err: str):\n",
    "    print(\"❌ Error:\", err)\n",
    "\n",
    "\n",
    "client.start_ws_listener(\n",
    "    task_id=task.id, on_message=on_message, on_error=on_error\n",
    ")"
   ]
  },
  {
   "cell_type": "markdown",
   "id": "e36c88bc",
   "metadata": {},
   "source": [
    "## 🎤 Send Input (if prompted)"
   ]
  },
  {
   "cell_type": "code",
   "execution_count": 7,
   "id": "a0c0bb87",
   "metadata": {},
   "outputs": [],
   "source": [
    "def send_input(request_id: str, data: str):\n",
    "    input_msg = UserInputRequest(\n",
    "        task_id=task.id,\n",
    "        request_id=request_id,\n",
    "        data=data,\n",
    "    )\n",
    "    # alternatively, as plain dict:\n",
    "    # input_msg = {\n",
    "    #     \"task_id\": task.id,\n",
    "    #     \"request_id\": request_id,\n",
    "    #     \"data\": data,\n",
    "    # }\n",
    "    client.send_user_input(request_data=input_msg)"
   ]
  },
  {
   "cell_type": "markdown",
   "id": "c80bf2d9",
   "metadata": {},
   "source": [
    "## ⏳ Wait for Completion and Download Results"
   ]
  },
  {
   "cell_type": "code",
   "execution_count": 8,
   "id": "dca17c8b",
   "metadata": {},
   "outputs": [
    {
     "name": "stdout",
     "output_type": "stream",
     "text": [
      "⏳ Status: TaskStatus.PENDING\n",
      "⏳ Status: TaskStatus.PENDING\n",
      "⏳ Status: TaskStatus.PENDING\n",
      "⏳ Status: TaskStatus.PENDING\n",
      "⏳ Status: TaskStatus.PENDING\n",
      "⏳ Status: TaskStatus.RUNNING\n",
      "⏳ Status: TaskStatus.WAITING_FOR_INPUT\n",
      "⏳ Status: TaskStatus.WAITING_FOR_INPUT\n",
      "Finished: TaskStatus.COMPLETED\n",
      "📁 Results saved to results.zip\n"
     ]
    }
   ],
   "source": [
    "import time\n",
    "\n",
    "while True:\n",
    "    current = client.get_task_status(task_id=task.id)\n",
    "    if current.status in (\n",
    "        TaskStatus.COMPLETED,\n",
    "        TaskStatus.FAILED,\n",
    "        TaskStatus.CANCELLED,\n",
    "    ):\n",
    "        print(\"Finished:\", current.status)\n",
    "        break\n",
    "    print(\"⏳ Status:\", current.status)\n",
    "    if current.status == TaskStatus.WAITING_FOR_INPUT:\n",
    "        send_input(request_id=current.input_request_id, data=\"Hello world!\")\n",
    "    time.sleep(2)\n",
    "\n",
    "zip_data = client.download_task_results(task_id=task.id)\n",
    "with open(\"results.zip\", \"wb\") as f:\n",
    "    f.write(zip_data)\n",
    "print(\"📁 Results saved to results.zip\")"
   ]
  },
  {
   "cell_type": "code",
   "execution_count": 9,
   "id": "130a7a18",
   "metadata": {},
   "outputs": [
    {
     "name": "stdout",
     "output_type": "stream",
     "text": [
      "📂 Unzipped results to results\n",
      "📄 dummy_with_input.waldiez\n",
      "📄 waldiez_flow_api_keys.py\n",
      "📄 dummy_with_input.py\n",
      "📄 Waldiez flow.mmd\n",
      "📄 flow.db\n",
      "📄 oai_wrappers.csv\n",
      "📄 oai_clients.csv\n",
      "📄 version.json\n",
      "📄 function_calls.csv\n",
      "📄 events.json\n",
      "📄 chat_completions.json\n",
      "📄 version.csv\n",
      "📄 agents.json\n",
      "📄 function_calls.json\n",
      "📄 oai_wrappers.json\n",
      "📄 oai_clients.json\n",
      "📄 chat_completions.csv\n",
      "📄 agents.csv\n",
      "📄 events.csv\n"
     ]
    }
   ],
   "source": [
    "import os\n",
    "import zipfile\n",
    "\n",
    "# Unzip the results\n",
    "with zipfile.ZipFile(\"results.zip\", \"r\") as zip_ref:\n",
    "    zip_ref.extractall(\"results\")\n",
    "print(\"📂 Unzipped results to results\")\n",
    "for root, dirs, files in os.walk(\"results\"):\n",
    "    for file in files:\n",
    "        print(f\"📄 {file}\")"
   ]
  },
  {
   "cell_type": "markdown",
   "id": "6891fbe8",
   "metadata": {},
   "source": [
    "## 🗑️ Cleanup"
   ]
  },
  {
   "cell_type": "code",
   "execution_count": 10,
   "id": "a63e5447",
   "metadata": {},
   "outputs": [
    {
     "name": "stdout",
     "output_type": "stream",
     "text": [
      "🗑️ Deleted results directory.\n",
      "🗑️ Deleted results.zip\n",
      "🗑️ Deleted tasks-api client.\n",
      "🗑️ Deleted environment variables.\n"
     ]
    }
   ],
   "source": [
    "import shutil\n",
    "import os\n",
    "\n",
    "# Clean up the results\n",
    "if os.path.exists(\"results\"):\n",
    "    shutil.rmtree(\"results\")\n",
    "    print(\"🗑️ Deleted results directory.\")\n",
    "\n",
    "if os.path.exists(\"results.zip\"):\n",
    "    os.remove(\"results.zip\")\n",
    "    print(\"🗑️ Deleted results.zip\")\n",
    "\n",
    "if CREATED_NEW_CLIENT:\n",
    "    clients_admin = ClientsAdmin()\n",
    "    clients_admin.configure(BASE_URL, CLIENT_ID, CLIENT_SECRET)\n",
    "    clients_admin.delete_client(client_id=TASKS_CLIENT_ID)\n",
    "    print(\"🗑️ Deleted tasks-api client.\")\n",
    "\n",
    "os.environ.pop(\"WALDIEZ_CLIENT_ID\", None)\n",
    "os.environ.pop(\"WALDIEZ_CLIENT_SECRET\", None)\n",
    "os.environ.pop(\"WALDIEZ_AUDIENCE\", None)\n",
    "print(\"🗑️ Deleted environment variables.\")"
   ]
  }
 ],
 "metadata": {
  "kernelspec": {
   "display_name": ".venv",
   "language": "python",
   "name": "python3"
  },
  "language_info": {
   "codemirror_mode": {
    "name": "ipython",
    "version": 3
   },
   "file_extension": ".py",
   "mimetype": "text/x-python",
   "name": "python",
   "nbconvert_exporter": "python",
   "pygments_lexer": "ipython3",
   "version": "3.13.2"
  }
 },
 "nbformat": 4,
 "nbformat_minor": 5
}
